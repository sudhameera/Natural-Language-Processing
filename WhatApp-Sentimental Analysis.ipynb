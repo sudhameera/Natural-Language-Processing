{
 "cells": [
  {
   "cell_type": "code",
   "execution_count": 1,
   "id": "65733123",
   "metadata": {},
   "outputs": [],
   "source": [
    "import pandas as pd\n",
    "import numpy as np\n"
   ]
  },
  {
   "cell_type": "code",
   "execution_count": 2,
   "id": "81d3922f",
   "metadata": {},
   "outputs": [
    {
     "name": "stderr",
     "output_type": "stream",
     "text": [
      "C:\\Users\\venka\\anaconda3\\envs\\aiml\\lib\\site-packages\\IPython\\core\\interactiveshell.py:3457: FutureWarning: The error_bad_lines argument has been deprecated and will be removed in a future version.\n",
      "\n",
      "\n",
      "  exec(code_obj, self.user_global_ns, self.user_ns)\n",
      "b'Skipping line 23: expected 2 fields, saw 6\\nSkipping line 44: expected 2 fields, saw 3\\n'\n"
     ]
    },
    {
     "data": {
      "text/html": [
       "<div>\n",
       "<style scoped>\n",
       "    .dataframe tbody tr th:only-of-type {\n",
       "        vertical-align: middle;\n",
       "    }\n",
       "\n",
       "    .dataframe tbody tr th {\n",
       "        vertical-align: top;\n",
       "    }\n",
       "\n",
       "    .dataframe thead th {\n",
       "        text-align: right;\n",
       "    }\n",
       "</style>\n",
       "<table border=\"1\" class=\"dataframe\">\n",
       "  <thead>\n",
       "    <tr style=\"text-align: right;\">\n",
       "      <th></th>\n",
       "      <th>0</th>\n",
       "      <th>1</th>\n",
       "    </tr>\n",
       "  </thead>\n",
       "  <tbody>\n",
       "    <tr>\n",
       "      <th>0</th>\n",
       "      <td>05/12/19</td>\n",
       "      <td>1:42 pm - Messages to this chat and calls are...</td>\n",
       "    </tr>\n",
       "    <tr>\n",
       "      <th>1</th>\n",
       "      <td>05/12/19</td>\n",
       "      <td>1:42 pm - Mabel Infoziant: Hi this is Mabel w...</td>\n",
       "    </tr>\n",
       "    <tr>\n",
       "      <th>2</th>\n",
       "      <td>05/12/19</td>\n",
       "      <td>1:42 pm - Mabel Infoziant: What’s your full name</td>\n",
       "    </tr>\n",
       "    <tr>\n",
       "      <th>3</th>\n",
       "      <td>05/12/19</td>\n",
       "      <td>1:42 pm - AR❤: Ramisha Rani K</td>\n",
       "    </tr>\n",
       "    <tr>\n",
       "      <th>4</th>\n",
       "      <td>05/12/19</td>\n",
       "      <td>1:42 pm - Mabel Infoziant: Ok</td>\n",
       "    </tr>\n",
       "  </tbody>\n",
       "</table>\n",
       "</div>"
      ],
      "text/plain": [
       "          0                                                  1\n",
       "0  05/12/19   1:42 pm - Messages to this chat and calls are...\n",
       "1  05/12/19   1:42 pm - Mabel Infoziant: Hi this is Mabel w...\n",
       "2  05/12/19   1:42 pm - Mabel Infoziant: What’s your full name\n",
       "3  05/12/19                      1:42 pm - AR❤: Ramisha Rani K\n",
       "4  05/12/19                      1:42 pm - Mabel Infoziant: Ok"
      ]
     },
     "execution_count": 2,
     "metadata": {},
     "output_type": "execute_result"
    }
   ],
   "source": [
    "data = pd.read_csv(\"mabel.txt\",header =None,error_bad_lines=False,encoding='utf8')\n",
    "data[:5]"
   ]
  },
  {
   "cell_type": "code",
   "execution_count": 3,
   "id": "3f3e98f9",
   "metadata": {},
   "outputs": [],
   "source": [
    "data.drop(0,inplace=True)"
   ]
  },
  {
   "cell_type": "code",
   "execution_count": 4,
   "id": "a00cfd22",
   "metadata": {},
   "outputs": [
    {
     "data": {
      "text/html": [
       "<div>\n",
       "<style scoped>\n",
       "    .dataframe tbody tr th:only-of-type {\n",
       "        vertical-align: middle;\n",
       "    }\n",
       "\n",
       "    .dataframe tbody tr th {\n",
       "        vertical-align: top;\n",
       "    }\n",
       "\n",
       "    .dataframe thead th {\n",
       "        text-align: right;\n",
       "    }\n",
       "</style>\n",
       "<table border=\"1\" class=\"dataframe\">\n",
       "  <thead>\n",
       "    <tr style=\"text-align: right;\">\n",
       "      <th></th>\n",
       "      <th>Date</th>\n",
       "      <th>chat</th>\n",
       "      <th>Time</th>\n",
       "      <th>sender</th>\n",
       "      <th>message</th>\n",
       "    </tr>\n",
       "  </thead>\n",
       "  <tbody>\n",
       "    <tr>\n",
       "      <th>1</th>\n",
       "      <td>05/12/19</td>\n",
       "      <td>1:42 pm - Mabel Infoziant: Hi this is Mabel w...</td>\n",
       "      <td>1:42 pm</td>\n",
       "      <td>Mabel Infoziant</td>\n",
       "      <td>Hi this is Mabel we just spoke</td>\n",
       "    </tr>\n",
       "    <tr>\n",
       "      <th>2</th>\n",
       "      <td>05/12/19</td>\n",
       "      <td>1:42 pm - Mabel Infoziant: What’s your full name</td>\n",
       "      <td>1:42 pm</td>\n",
       "      <td>Mabel Infoziant</td>\n",
       "      <td>What’s your full name</td>\n",
       "    </tr>\n",
       "    <tr>\n",
       "      <th>3</th>\n",
       "      <td>05/12/19</td>\n",
       "      <td>1:42 pm - AR❤: Ramisha Rani K</td>\n",
       "      <td>1:42 pm</td>\n",
       "      <td>AR❤</td>\n",
       "      <td>Ramisha Rani K</td>\n",
       "    </tr>\n",
       "    <tr>\n",
       "      <th>4</th>\n",
       "      <td>05/12/19</td>\n",
       "      <td>1:42 pm - Mabel Infoziant: Ok</td>\n",
       "      <td>1:42 pm</td>\n",
       "      <td>Mabel Infoziant</td>\n",
       "      <td>Ok</td>\n",
       "    </tr>\n",
       "    <tr>\n",
       "      <th>5</th>\n",
       "      <td>05/12/19</td>\n",
       "      <td>1:42 pm - Mabel Infoziant: ramisharanik@gmail...</td>\n",
       "      <td>1:42 pm</td>\n",
       "      <td>Mabel Infoziant</td>\n",
       "      <td>ramisharanik@gmail.com</td>\n",
       "    </tr>\n",
       "  </tbody>\n",
       "</table>\n",
       "</div>"
      ],
      "text/plain": [
       "       Date                                               chat       Time  \\\n",
       "1  05/12/19   1:42 pm - Mabel Infoziant: Hi this is Mabel w...   1:42 pm    \n",
       "2  05/12/19   1:42 pm - Mabel Infoziant: What’s your full name   1:42 pm    \n",
       "3  05/12/19                      1:42 pm - AR❤: Ramisha Rani K   1:42 pm    \n",
       "4  05/12/19                      1:42 pm - Mabel Infoziant: Ok   1:42 pm    \n",
       "5  05/12/19   1:42 pm - Mabel Infoziant: ramisharanik@gmail...   1:42 pm    \n",
       "\n",
       "             sender                          message  \n",
       "1   Mabel Infoziant   Hi this is Mabel we just spoke  \n",
       "2   Mabel Infoziant            What’s your full name  \n",
       "3               AR❤                   Ramisha Rani K  \n",
       "4   Mabel Infoziant                               Ok  \n",
       "5   Mabel Infoziant           ramisharanik@gmail.com  "
      ]
     },
     "execution_count": 4,
     "metadata": {},
     "output_type": "execute_result"
    }
   ],
   "source": [
    "data.columns = ['Date','chat']\n",
    "df = data['chat'].str.split(\"-\",n=1,expand=True)\n",
    "data['Time']=df[0]\n",
    "\n",
    "df1=df[1].str.split(\":\",n=1,expand=True)\n",
    "data['sender']=df1[0]\n",
    "data['message'] =df1[1]\n",
    "\n",
    "\n",
    "data[:5]\n"
   ]
  },
  {
   "cell_type": "code",
   "execution_count": 5,
   "id": "16c4f6d2",
   "metadata": {},
   "outputs": [],
   "source": [
    "data.drop(\"chat\",axis=1,inplace=True)"
   ]
  },
  {
   "cell_type": "code",
   "execution_count": 6,
   "id": "f8e6c7cc",
   "metadata": {},
   "outputs": [
    {
     "name": "stdout",
     "output_type": "stream",
     "text": [
      "<class 'pandas.core.frame.DataFrame'>\n",
      "Int64Index: 50 entries, 1 to 50\n",
      "Data columns (total 4 columns):\n",
      " #   Column   Non-Null Count  Dtype \n",
      "---  ------   --------------  ----- \n",
      " 0   Date     50 non-null     object\n",
      " 1   Time     50 non-null     object\n",
      " 2   sender   50 non-null     object\n",
      " 3   message  50 non-null     object\n",
      "dtypes: object(4)\n",
      "memory usage: 2.0+ KB\n"
     ]
    }
   ],
   "source": [
    "data.info()"
   ]
  },
  {
   "cell_type": "code",
   "execution_count": 11,
   "id": "28ed59c7",
   "metadata": {},
   "outputs": [],
   "source": [
    "from sklearn.feature_extraction.text import HashingVectorizer\n",
    "hash = HashingVectorizer()\n",
    "vector = hash.fit_transform(data['message'])\n",
    "\n"
   ]
  },
  {
   "cell_type": "code",
   "execution_count": 14,
   "id": "ab1a3262",
   "metadata": {},
   "outputs": [
    {
     "data": {
      "text/plain": [
       "(50, 1048576)"
      ]
     },
     "execution_count": 14,
     "metadata": {},
     "output_type": "execute_result"
    }
   ],
   "source": [
    "vector.shape"
   ]
  },
  {
   "cell_type": "code",
   "execution_count": 17,
   "id": "c1f658f3",
   "metadata": {},
   "outputs": [],
   "source": [
    "from sklearn.preprocessing import MaxAbsScaler #fixed import\n",
    "\n",
    "scaler = MaxAbsScaler()\n",
    "vector_scale = scaler.fit_transform(vector)\n"
   ]
  },
  {
   "cell_type": "code",
   "execution_count": 19,
   "id": "13891f82",
   "metadata": {},
   "outputs": [
    {
     "data": {
      "text/plain": [
       "<50x1048576 sparse matrix of type '<class 'numpy.float64'>'\n",
       "\twith 363 stored elements in Compressed Sparse Row format>"
      ]
     },
     "execution_count": 19,
     "metadata": {},
     "output_type": "execute_result"
    }
   ],
   "source": [
    "vector_scale"
   ]
  },
  {
   "cell_type": "code",
   "execution_count": 28,
   "id": "bddb8803",
   "metadata": {},
   "outputs": [
    {
     "name": "stderr",
     "output_type": "stream",
     "text": [
      "C:\\Users\\venka\\anaconda3\\envs\\aiml\\lib\\site-packages\\sklearn\\utils\\validation.py:746: VisibleDeprecationWarning: Creating an ndarray from ragged nested sequences (which is a list-or-tuple of lists-or-tuples-or ndarrays with different lengths or shapes) is deprecated. If you meant to do this, you must specify 'dtype=object' when creating the ndarray.\n",
      "  array = np.asarray(array, order=order, dtype=dtype)\n"
     ]
    },
    {
     "ename": "ValueError",
     "evalue": "could not broadcast input array from shape (100,20) into shape (100,)",
     "output_type": "error",
     "traceback": [
      "\u001b[1;31m---------------------------------------------------------------------------\u001b[0m",
      "\u001b[1;31mValueError\u001b[0m                                Traceback (most recent call last)",
      "\u001b[1;32m~\\AppData\\Local\\Temp\\ipykernel_1324\\716322772.py\u001b[0m in \u001b[0;36m<module>\u001b[1;34m\u001b[0m\n\u001b[0;32m      4\u001b[0m \u001b[1;32mfrom\u001b[0m \u001b[0msklearn\u001b[0m\u001b[1;33m.\u001b[0m\u001b[0mdecomposition\u001b[0m \u001b[1;32mimport\u001b[0m \u001b[0mLatentDirichletAllocation\u001b[0m\u001b[1;33m\u001b[0m\u001b[1;33m\u001b[0m\u001b[0m\n\u001b[0;32m      5\u001b[0m \u001b[0mlda\u001b[0m \u001b[1;33m=\u001b[0m \u001b[0mLatentDirichletAllocation\u001b[0m\u001b[1;33m(\u001b[0m\u001b[0mn_components\u001b[0m\u001b[1;33m=\u001b[0m\u001b[1;36m5\u001b[0m\u001b[1;33m,\u001b[0m \u001b[0mrandom_state\u001b[0m\u001b[1;33m=\u001b[0m\u001b[1;36m0\u001b[0m\u001b[1;33m)\u001b[0m\u001b[1;33m\u001b[0m\u001b[1;33m\u001b[0m\u001b[0m\n\u001b[1;32m----> 6\u001b[1;33m \u001b[0mlda\u001b[0m\u001b[1;33m.\u001b[0m\u001b[0mfit\u001b[0m\u001b[1;33m(\u001b[0m\u001b[0mmmc\u001b[0m\u001b[1;33m)\u001b[0m\u001b[1;33m\u001b[0m\u001b[1;33m\u001b[0m\u001b[0m\n\u001b[0m\u001b[0;32m      7\u001b[0m \u001b[0mlda\u001b[0m\u001b[1;33m.\u001b[0m\u001b[0mtransform\u001b[0m\u001b[1;33m(\u001b[0m\u001b[0mmmc\u001b[0m\u001b[1;33m[\u001b[0m\u001b[1;33m-\u001b[0m\u001b[1;36m2\u001b[0m\u001b[1;33m:\u001b[0m\u001b[1;33m]\u001b[0m\u001b[1;33m)\u001b[0m\u001b[1;33m\u001b[0m\u001b[1;33m\u001b[0m\u001b[0m\n",
      "\u001b[1;32m~\\anaconda3\\envs\\aiml\\lib\\site-packages\\sklearn\\decomposition\\_lda.py\u001b[0m in \u001b[0;36mfit\u001b[1;34m(self, X, y)\u001b[0m\n\u001b[0;32m    610\u001b[0m         \u001b[0mself\u001b[0m\u001b[1;33m.\u001b[0m\u001b[0m_check_params\u001b[0m\u001b[1;33m(\u001b[0m\u001b[1;33m)\u001b[0m\u001b[1;33m\u001b[0m\u001b[1;33m\u001b[0m\u001b[0m\n\u001b[0;32m    611\u001b[0m         X = self._check_non_neg_array(\n\u001b[1;32m--> 612\u001b[1;33m             \u001b[0mX\u001b[0m\u001b[1;33m,\u001b[0m \u001b[0mreset_n_features\u001b[0m\u001b[1;33m=\u001b[0m\u001b[1;32mTrue\u001b[0m\u001b[1;33m,\u001b[0m \u001b[0mwhom\u001b[0m\u001b[1;33m=\u001b[0m\u001b[1;34m\"LatentDirichletAllocation.fit\"\u001b[0m\u001b[1;33m\u001b[0m\u001b[1;33m\u001b[0m\u001b[0m\n\u001b[0m\u001b[0;32m    613\u001b[0m         )\n\u001b[0;32m    614\u001b[0m         \u001b[0mn_samples\u001b[0m\u001b[1;33m,\u001b[0m \u001b[0mn_features\u001b[0m \u001b[1;33m=\u001b[0m \u001b[0mX\u001b[0m\u001b[1;33m.\u001b[0m\u001b[0mshape\u001b[0m\u001b[1;33m\u001b[0m\u001b[1;33m\u001b[0m\u001b[0m\n",
      "\u001b[1;32m~\\anaconda3\\envs\\aiml\\lib\\site-packages\\sklearn\\decomposition\\_lda.py\u001b[0m in \u001b[0;36m_check_non_neg_array\u001b[1;34m(self, X, reset_n_features, whom)\u001b[0m\n\u001b[0;32m    538\u001b[0m \u001b[1;33m\u001b[0m\u001b[0m\n\u001b[0;32m    539\u001b[0m         \"\"\"\n\u001b[1;32m--> 540\u001b[1;33m         \u001b[0mX\u001b[0m \u001b[1;33m=\u001b[0m \u001b[0mself\u001b[0m\u001b[1;33m.\u001b[0m\u001b[0m_validate_data\u001b[0m\u001b[1;33m(\u001b[0m\u001b[0mX\u001b[0m\u001b[1;33m,\u001b[0m \u001b[0mreset\u001b[0m\u001b[1;33m=\u001b[0m\u001b[0mreset_n_features\u001b[0m\u001b[1;33m,\u001b[0m \u001b[0maccept_sparse\u001b[0m\u001b[1;33m=\u001b[0m\u001b[1;34m\"csr\"\u001b[0m\u001b[1;33m)\u001b[0m\u001b[1;33m\u001b[0m\u001b[1;33m\u001b[0m\u001b[0m\n\u001b[0m\u001b[0;32m    541\u001b[0m         \u001b[0mcheck_non_negative\u001b[0m\u001b[1;33m(\u001b[0m\u001b[0mX\u001b[0m\u001b[1;33m,\u001b[0m \u001b[0mwhom\u001b[0m\u001b[1;33m)\u001b[0m\u001b[1;33m\u001b[0m\u001b[1;33m\u001b[0m\u001b[0m\n\u001b[0;32m    542\u001b[0m         \u001b[1;32mreturn\u001b[0m \u001b[0mX\u001b[0m\u001b[1;33m\u001b[0m\u001b[1;33m\u001b[0m\u001b[0m\n",
      "\u001b[1;32m~\\anaconda3\\envs\\aiml\\lib\\site-packages\\sklearn\\base.py\u001b[0m in \u001b[0;36m_validate_data\u001b[1;34m(self, X, y, reset, validate_separately, **check_params)\u001b[0m\n\u001b[0;32m    564\u001b[0m             \u001b[1;32mraise\u001b[0m \u001b[0mValueError\u001b[0m\u001b[1;33m(\u001b[0m\u001b[1;34m\"Validation should be done on X, y or both.\"\u001b[0m\u001b[1;33m)\u001b[0m\u001b[1;33m\u001b[0m\u001b[1;33m\u001b[0m\u001b[0m\n\u001b[0;32m    565\u001b[0m         \u001b[1;32melif\u001b[0m \u001b[1;32mnot\u001b[0m \u001b[0mno_val_X\u001b[0m \u001b[1;32mand\u001b[0m \u001b[0mno_val_y\u001b[0m\u001b[1;33m:\u001b[0m\u001b[1;33m\u001b[0m\u001b[1;33m\u001b[0m\u001b[0m\n\u001b[1;32m--> 566\u001b[1;33m             \u001b[0mX\u001b[0m \u001b[1;33m=\u001b[0m \u001b[0mcheck_array\u001b[0m\u001b[1;33m(\u001b[0m\u001b[0mX\u001b[0m\u001b[1;33m,\u001b[0m \u001b[1;33m**\u001b[0m\u001b[0mcheck_params\u001b[0m\u001b[1;33m)\u001b[0m\u001b[1;33m\u001b[0m\u001b[1;33m\u001b[0m\u001b[0m\n\u001b[0m\u001b[0;32m    567\u001b[0m             \u001b[0mout\u001b[0m \u001b[1;33m=\u001b[0m \u001b[0mX\u001b[0m\u001b[1;33m\u001b[0m\u001b[1;33m\u001b[0m\u001b[0m\n\u001b[0;32m    568\u001b[0m         \u001b[1;32melif\u001b[0m \u001b[0mno_val_X\u001b[0m \u001b[1;32mand\u001b[0m \u001b[1;32mnot\u001b[0m \u001b[0mno_val_y\u001b[0m\u001b[1;33m:\u001b[0m\u001b[1;33m\u001b[0m\u001b[1;33m\u001b[0m\u001b[0m\n",
      "\u001b[1;32m~\\anaconda3\\envs\\aiml\\lib\\site-packages\\sklearn\\utils\\validation.py\u001b[0m in \u001b[0;36mcheck_array\u001b[1;34m(array, accept_sparse, accept_large_sparse, dtype, order, copy, force_all_finite, ensure_2d, allow_nd, ensure_min_samples, ensure_min_features, estimator)\u001b[0m\n\u001b[0;32m    744\u001b[0m                     \u001b[0marray\u001b[0m \u001b[1;33m=\u001b[0m \u001b[0marray\u001b[0m\u001b[1;33m.\u001b[0m\u001b[0mastype\u001b[0m\u001b[1;33m(\u001b[0m\u001b[0mdtype\u001b[0m\u001b[1;33m,\u001b[0m \u001b[0mcasting\u001b[0m\u001b[1;33m=\u001b[0m\u001b[1;34m\"unsafe\"\u001b[0m\u001b[1;33m,\u001b[0m \u001b[0mcopy\u001b[0m\u001b[1;33m=\u001b[0m\u001b[1;32mFalse\u001b[0m\u001b[1;33m)\u001b[0m\u001b[1;33m\u001b[0m\u001b[1;33m\u001b[0m\u001b[0m\n\u001b[0;32m    745\u001b[0m                 \u001b[1;32melse\u001b[0m\u001b[1;33m:\u001b[0m\u001b[1;33m\u001b[0m\u001b[1;33m\u001b[0m\u001b[0m\n\u001b[1;32m--> 746\u001b[1;33m                     \u001b[0marray\u001b[0m \u001b[1;33m=\u001b[0m \u001b[0mnp\u001b[0m\u001b[1;33m.\u001b[0m\u001b[0masarray\u001b[0m\u001b[1;33m(\u001b[0m\u001b[0marray\u001b[0m\u001b[1;33m,\u001b[0m \u001b[0morder\u001b[0m\u001b[1;33m=\u001b[0m\u001b[0morder\u001b[0m\u001b[1;33m,\u001b[0m \u001b[0mdtype\u001b[0m\u001b[1;33m=\u001b[0m\u001b[0mdtype\u001b[0m\u001b[1;33m)\u001b[0m\u001b[1;33m\u001b[0m\u001b[1;33m\u001b[0m\u001b[0m\n\u001b[0m\u001b[0;32m    747\u001b[0m             \u001b[1;32mexcept\u001b[0m \u001b[0mComplexWarning\u001b[0m \u001b[1;32mas\u001b[0m \u001b[0mcomplex_warning\u001b[0m\u001b[1;33m:\u001b[0m\u001b[1;33m\u001b[0m\u001b[1;33m\u001b[0m\u001b[0m\n\u001b[0;32m    748\u001b[0m                 raise ValueError(\n",
      "\u001b[1;31mValueError\u001b[0m: could not broadcast input array from shape (100,20) into shape (100,)"
     ]
    }
   ],
   "source": [
    "\n",
    "from sklearn.datasets import make_multilabel_classification\n",
    "mmc=make_multilabel_classification(random_state=0)\n",
    "\n",
    "from sklearn.decomposition import LatentDirichletAllocation\n",
    "lda = LatentDirichletAllocation(n_components=5, random_state=0)\n",
    "lda.fit(mmc)\n",
    "lda.transform(mmc[-2:])"
   ]
  },
  {
   "cell_type": "code",
   "execution_count": 25,
   "id": "64e83968",
   "metadata": {},
   "outputs": [
    {
     "data": {
      "text/plain": [
       "(array([[3., 1., 4., ..., 4., 1., 3.],\n",
       "        [5., 0., 6., ..., 0., 0., 3.],\n",
       "        [3., 4., 1., ..., 3., 2., 5.],\n",
       "        ...,\n",
       "        [2., 1., 2., ..., 1., 0., 3.],\n",
       "        [6., 4., 1., ..., 1., 3., 5.],\n",
       "        [2., 4., 2., ..., 5., 4., 2.]]),\n",
       " array([[0, 0, 1, 1, 1],\n",
       "        [0, 0, 1, 0, 0],\n",
       "        [1, 1, 0, 1, 0],\n",
       "        [1, 1, 1, 1, 1],\n",
       "        [1, 1, 1, 0, 0],\n",
       "        [1, 1, 1, 0, 0],\n",
       "        [0, 1, 0, 0, 1],\n",
       "        [0, 1, 1, 1, 1],\n",
       "        [1, 1, 0, 0, 1],\n",
       "        [1, 1, 1, 1, 1],\n",
       "        [0, 0, 0, 0, 0],\n",
       "        [0, 0, 1, 0, 1],\n",
       "        [0, 0, 0, 1, 1],\n",
       "        [1, 1, 0, 1, 1],\n",
       "        [0, 0, 1, 0, 0],\n",
       "        [1, 0, 1, 1, 0],\n",
       "        [1, 0, 0, 1, 1],\n",
       "        [0, 0, 0, 1, 1],\n",
       "        [0, 0, 1, 0, 1],\n",
       "        [1, 1, 1, 1, 0],\n",
       "        [0, 1, 0, 1, 1],\n",
       "        [0, 0, 0, 0, 0],\n",
       "        [1, 1, 0, 0, 0],\n",
       "        [1, 0, 0, 0, 0],\n",
       "        [1, 0, 0, 1, 0],\n",
       "        [1, 0, 0, 0, 1],\n",
       "        [0, 0, 0, 0, 1],\n",
       "        [0, 0, 0, 0, 0],\n",
       "        [1, 1, 0, 0, 0],\n",
       "        [1, 0, 1, 0, 0],\n",
       "        [0, 1, 0, 0, 0],\n",
       "        [0, 0, 0, 0, 1],\n",
       "        [1, 1, 0, 1, 1],\n",
       "        [0, 1, 0, 1, 0],\n",
       "        [0, 1, 0, 0, 0],\n",
       "        [0, 0, 1, 0, 0],\n",
       "        [1, 1, 0, 1, 0],\n",
       "        [1, 0, 0, 1, 0],\n",
       "        [0, 1, 0, 1, 1],\n",
       "        [0, 0, 1, 0, 1],\n",
       "        [0, 0, 1, 0, 0],\n",
       "        [0, 0, 0, 1, 0],\n",
       "        [1, 1, 1, 0, 1],\n",
       "        [0, 0, 1, 0, 1],\n",
       "        [0, 0, 0, 0, 0],\n",
       "        [1, 1, 1, 1, 1],\n",
       "        [0, 1, 0, 0, 1],\n",
       "        [0, 0, 0, 0, 0],\n",
       "        [1, 0, 1, 0, 1],\n",
       "        [0, 1, 0, 1, 0],\n",
       "        [0, 1, 1, 0, 1],\n",
       "        [1, 0, 1, 1, 1],\n",
       "        [1, 0, 1, 0, 0],\n",
       "        [0, 1, 1, 0, 0],\n",
       "        [0, 0, 0, 1, 0],\n",
       "        [0, 1, 0, 0, 0],\n",
       "        [0, 0, 0, 0, 0],\n",
       "        [0, 1, 1, 1, 1],\n",
       "        [1, 1, 1, 1, 0],\n",
       "        [1, 0, 0, 1, 0],\n",
       "        [0, 1, 1, 0, 1],\n",
       "        [0, 0, 0, 1, 1],\n",
       "        [0, 0, 0, 0, 0],\n",
       "        [0, 1, 1, 0, 0],\n",
       "        [0, 1, 1, 1, 0],\n",
       "        [0, 1, 1, 1, 0],\n",
       "        [1, 0, 1, 1, 1],\n",
       "        [0, 1, 0, 0, 0],\n",
       "        [0, 0, 0, 0, 0],\n",
       "        [0, 0, 0, 0, 0],\n",
       "        [0, 1, 1, 1, 1],\n",
       "        [0, 0, 0, 0, 0],\n",
       "        [0, 0, 0, 1, 0],\n",
       "        [0, 0, 0, 0, 0],\n",
       "        [0, 1, 0, 1, 0],\n",
       "        [0, 0, 1, 1, 1],\n",
       "        [0, 1, 0, 0, 0],\n",
       "        [1, 0, 1, 0, 0],\n",
       "        [0, 0, 0, 1, 0],\n",
       "        [0, 1, 0, 1, 0],\n",
       "        [0, 1, 0, 0, 0],\n",
       "        [1, 1, 1, 1, 1],\n",
       "        [0, 1, 1, 0, 0],\n",
       "        [1, 1, 0, 1, 0],\n",
       "        [1, 1, 1, 1, 0],\n",
       "        [0, 0, 1, 0, 0],\n",
       "        [0, 1, 1, 0, 0],\n",
       "        [0, 0, 0, 0, 0],\n",
       "        [1, 0, 0, 0, 0],\n",
       "        [0, 1, 1, 1, 0],\n",
       "        [0, 0, 0, 0, 0],\n",
       "        [0, 1, 1, 1, 1],\n",
       "        [0, 0, 0, 0, 1],\n",
       "        [0, 1, 1, 0, 0],\n",
       "        [1, 1, 1, 1, 0],\n",
       "        [0, 0, 0, 0, 0],\n",
       "        [1, 0, 0, 0, 1],\n",
       "        [0, 0, 1, 0, 0],\n",
       "        [0, 1, 1, 0, 0],\n",
       "        [0, 1, 0, 1, 1]]))"
      ]
     },
     "execution_count": 25,
     "metadata": {},
     "output_type": "execute_result"
    }
   ],
   "source": [
    "mmc"
   ]
  },
  {
   "cell_type": "code",
   "execution_count": null,
   "id": "38ed73d0",
   "metadata": {},
   "outputs": [],
   "source": []
  }
 ],
 "metadata": {
  "kernelspec": {
   "display_name": "Python 3 (ipykernel)",
   "language": "python",
   "name": "python3"
  },
  "language_info": {
   "codemirror_mode": {
    "name": "ipython",
    "version": 3
   },
   "file_extension": ".py",
   "mimetype": "text/x-python",
   "name": "python",
   "nbconvert_exporter": "python",
   "pygments_lexer": "ipython3",
   "version": "3.7.6"
  }
 },
 "nbformat": 4,
 "nbformat_minor": 5
}
