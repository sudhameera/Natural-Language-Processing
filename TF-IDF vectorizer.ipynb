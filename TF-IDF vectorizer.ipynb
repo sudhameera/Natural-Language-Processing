{
 "cells": [
  {
   "cell_type": "code",
   "execution_count": 1,
   "id": "e5c1c1a8",
   "metadata": {},
   "outputs": [],
   "source": [
    "import pandas as pd\n",
    "import numpy as np\n",
    "import spacy\n"
   ]
  },
  {
   "cell_type": "code",
   "execution_count": 10,
   "id": "756340eb",
   "metadata": {},
   "outputs": [
    {
     "data": {
      "text/html": [
       "<div>\n",
       "<style scoped>\n",
       "    .dataframe tbody tr th:only-of-type {\n",
       "        vertical-align: middle;\n",
       "    }\n",
       "\n",
       "    .dataframe tbody tr th {\n",
       "        vertical-align: top;\n",
       "    }\n",
       "\n",
       "    .dataframe thead th {\n",
       "        text-align: right;\n",
       "    }\n",
       "</style>\n",
       "<table border=\"1\" class=\"dataframe\">\n",
       "  <thead>\n",
       "    <tr style=\"text-align: right;\">\n",
       "      <th></th>\n",
       "      <th>Comment</th>\n",
       "      <th>Emotion</th>\n",
       "    </tr>\n",
       "  </thead>\n",
       "  <tbody>\n",
       "    <tr>\n",
       "      <th>0</th>\n",
       "      <td>i seriously hate one subject to death but now ...</td>\n",
       "      <td>fear</td>\n",
       "    </tr>\n",
       "    <tr>\n",
       "      <th>1</th>\n",
       "      <td>im so full of life i feel appalled</td>\n",
       "      <td>anger</td>\n",
       "    </tr>\n",
       "    <tr>\n",
       "      <th>2</th>\n",
       "      <td>i sit here to write i start to dig out my feel...</td>\n",
       "      <td>fear</td>\n",
       "    </tr>\n",
       "    <tr>\n",
       "      <th>3</th>\n",
       "      <td>ive been really angry with r and i feel like a...</td>\n",
       "      <td>joy</td>\n",
       "    </tr>\n",
       "    <tr>\n",
       "      <th>4</th>\n",
       "      <td>i feel suspicious if there is no one outside l...</td>\n",
       "      <td>fear</td>\n",
       "    </tr>\n",
       "  </tbody>\n",
       "</table>\n",
       "</div>"
      ],
      "text/plain": [
       "                                             Comment Emotion\n",
       "0  i seriously hate one subject to death but now ...    fear\n",
       "1                 im so full of life i feel appalled   anger\n",
       "2  i sit here to write i start to dig out my feel...    fear\n",
       "3  ive been really angry with r and i feel like a...     joy\n",
       "4  i feel suspicious if there is no one outside l...    fear"
      ]
     },
     "execution_count": 10,
     "metadata": {},
     "output_type": "execute_result"
    }
   ],
   "source": [
    "data = pd.read_csv(\"Emotion_classify_Data.csv\")\n",
    "data.shape\n",
    "data[:5]"
   ]
  },
  {
   "cell_type": "code",
   "execution_count": 3,
   "id": "1ff09866",
   "metadata": {},
   "outputs": [
    {
     "data": {
      "text/plain": [
       "anger    2000\n",
       "joy      2000\n",
       "fear     1937\n",
       "Name: Emotion, dtype: int64"
      ]
     },
     "execution_count": 3,
     "metadata": {},
     "output_type": "execute_result"
    }
   ],
   "source": [
    "data.Emotion.value_counts()"
   ]
  },
  {
   "cell_type": "code",
   "execution_count": 12,
   "id": "b6b1c002",
   "metadata": {},
   "outputs": [
    {
     "data": {
      "text/html": [
       "<div>\n",
       "<style scoped>\n",
       "    .dataframe tbody tr th:only-of-type {\n",
       "        vertical-align: middle;\n",
       "    }\n",
       "\n",
       "    .dataframe tbody tr th {\n",
       "        vertical-align: top;\n",
       "    }\n",
       "\n",
       "    .dataframe thead th {\n",
       "        text-align: right;\n",
       "    }\n",
       "</style>\n",
       "<table border=\"1\" class=\"dataframe\">\n",
       "  <thead>\n",
       "    <tr style=\"text-align: right;\">\n",
       "      <th></th>\n",
       "      <th>Comment</th>\n",
       "      <th>Emotion</th>\n",
       "      <th>emotion_coding</th>\n",
       "    </tr>\n",
       "  </thead>\n",
       "  <tbody>\n",
       "    <tr>\n",
       "      <th>0</th>\n",
       "      <td>i seriously hate one subject to death but now ...</td>\n",
       "      <td>fear</td>\n",
       "      <td>1</td>\n",
       "    </tr>\n",
       "    <tr>\n",
       "      <th>1</th>\n",
       "      <td>im so full of life i feel appalled</td>\n",
       "      <td>anger</td>\n",
       "      <td>2</td>\n",
       "    </tr>\n",
       "    <tr>\n",
       "      <th>2</th>\n",
       "      <td>i sit here to write i start to dig out my feel...</td>\n",
       "      <td>fear</td>\n",
       "      <td>1</td>\n",
       "    </tr>\n",
       "    <tr>\n",
       "      <th>3</th>\n",
       "      <td>ive been really angry with r and i feel like a...</td>\n",
       "      <td>joy</td>\n",
       "      <td>0</td>\n",
       "    </tr>\n",
       "    <tr>\n",
       "      <th>4</th>\n",
       "      <td>i feel suspicious if there is no one outside l...</td>\n",
       "      <td>fear</td>\n",
       "      <td>1</td>\n",
       "    </tr>\n",
       "  </tbody>\n",
       "</table>\n",
       "</div>"
      ],
      "text/plain": [
       "                                             Comment Emotion  emotion_coding\n",
       "0  i seriously hate one subject to death but now ...    fear               1\n",
       "1                 im so full of life i feel appalled   anger               2\n",
       "2  i sit here to write i start to dig out my feel...    fear               1\n",
       "3  ive been really angry with r and i feel like a...     joy               0\n",
       "4  i feel suspicious if there is no one outside l...    fear               1"
      ]
     },
     "execution_count": 12,
     "metadata": {},
     "output_type": "execute_result"
    }
   ],
   "source": [
    "data['emotion_coding']=data['Emotion'].map({'joy':0,'fear':1,'anger':2})\n",
    "\n",
    "data.head(5)"
   ]
  },
  {
   "cell_type": "markdown",
   "id": "bb75e07e",
   "metadata": {},
   "source": [
    "# Modelling without Pre-processing Text data"
   ]
  },
  {
   "cell_type": "code",
   "execution_count": 15,
   "id": "3ef0e7e4",
   "metadata": {},
   "outputs": [],
   "source": [
    "from sklearn.model_selection import train_test_split\n",
    "x_train,x_test,y_train,y_test=train_test_split(data['Comment'],data['emotion_coding'],test_size=0.25)"
   ]
  },
  {
   "cell_type": "code",
   "execution_count": 16,
   "id": "4a570e29",
   "metadata": {},
   "outputs": [
    {
     "data": {
      "text/plain": [
       "(4452,)"
      ]
     },
     "execution_count": 16,
     "metadata": {},
     "output_type": "execute_result"
    }
   ],
   "source": [
    "x_train.shape"
   ]
  },
  {
   "cell_type": "code",
   "execution_count": 18,
   "id": "f3c757aa",
   "metadata": {},
   "outputs": [
    {
     "data": {
      "text/plain": [
       "(1485,)"
      ]
     },
     "execution_count": 18,
     "metadata": {},
     "output_type": "execute_result"
    }
   ],
   "source": [
    "x_test.shape"
   ]
  },
  {
   "cell_type": "markdown",
   "id": "f57439f7",
   "metadata": {},
   "source": [
    "Attempt 1 :\n",
    "\n",
    "using the sklearn pipeline module create a classification pipeline to classify the data.\n",
    "\n",
    "Note:\n",
    "\n",
    "using CountVectorizer with only trigrams.\n",
    "use RandomForest as the classifier.\n",
    "print the classification report."
   ]
  },
  {
   "cell_type": "code",
   "execution_count": 27,
   "id": "9eee5569",
   "metadata": {},
   "outputs": [
    {
     "name": "stdout",
     "output_type": "stream",
     "text": [
      "              precision    recall  f1-score   support\n",
      "\n",
      "           0       0.89      0.96      0.92       490\n",
      "           1       0.93      0.91      0.92       484\n",
      "           2       0.94      0.90      0.92       511\n",
      "\n",
      "    accuracy                           0.92      1485\n",
      "   macro avg       0.92      0.92      0.92      1485\n",
      "weighted avg       0.92      0.92      0.92      1485\n",
      "\n"
     ]
    }
   ],
   "source": [
    "from sklearn.feature_extraction.text import CountVectorizer\n",
    "from sklearn.pipeline import Pipeline\n",
    "from sklearn.ensemble import RandomForestClassifier\n",
    "clf = Pipeline([\n",
    "    ('vectorizer',CountVectorizer(ngram_range=(3,3),stop_words='english')),\n",
    "    ('rf',RandomForestClassifier())\n",
    "])\n",
    "clf.fit(x_train,y_train)\n",
    "clf.predict(x_test)\n",
    "print(classification_report(y_test,y_pred))"
   ]
  },
  {
   "cell_type": "code",
   "execution_count": 21,
   "id": "d2771d5b",
   "metadata": {},
   "outputs": [],
   "source": [
    "from sklearn.feature_extraction.text import CountVectorizer\n",
    "from sklearn.pipeline import Pipeline\n",
    "from sklearn.ensemble import RandomForestClassifier\n",
    "clf = Pipeline([\n",
    "    ('vectorizer',CountVectorizer()),\n",
    "    ('rf',RandomForestClassifier())\n",
    "])"
   ]
  },
  {
   "cell_type": "code",
   "execution_count": 22,
   "id": "fce4a23b",
   "metadata": {},
   "outputs": [
    {
     "data": {
      "text/plain": [
       "Pipeline(steps=[('vectorizer', CountVectorizer()),\n",
       "                ('rf', RandomForestClassifier())])"
      ]
     },
     "execution_count": 22,
     "metadata": {},
     "output_type": "execute_result"
    }
   ],
   "source": [
    "clf.fit(x_train,y_train)\n"
   ]
  },
  {
   "cell_type": "code",
   "execution_count": 23,
   "id": "c8e791f8",
   "metadata": {},
   "outputs": [],
   "source": [
    "y_pred=clf.predict(x_test)"
   ]
  },
  {
   "cell_type": "code",
   "execution_count": 25,
   "id": "17903e99",
   "metadata": {},
   "outputs": [
    {
     "name": "stdout",
     "output_type": "stream",
     "text": [
      "              precision    recall  f1-score   support\n",
      "\n",
      "           0       0.89      0.96      0.92       490\n",
      "           1       0.93      0.91      0.92       484\n",
      "           2       0.94      0.90      0.92       511\n",
      "\n",
      "    accuracy                           0.92      1485\n",
      "   macro avg       0.92      0.92      0.92      1485\n",
      "weighted avg       0.92      0.92      0.92      1485\n",
      "\n"
     ]
    }
   ],
   "source": [
    "from sklearn.metrics import classification_report\n",
    "print(classification_report(y_test,y_pred))"
   ]
  },
  {
   "cell_type": "raw",
   "id": "13189d3e",
   "metadata": {},
   "source": [
    "Attempt 2 :\n",
    "\n",
    "using the sklearn pipeline module create a classification pipeline to classify the data.\n",
    "Note:\n",
    "\n",
    "using CountVectorizer with both unigram and bigrams.\n",
    "use Multinomial Naive Bayes as the classifier.\n",
    "print the classification report."
   ]
  },
  {
   "cell_type": "code",
   "execution_count": 31,
   "id": "64a87af2",
   "metadata": {},
   "outputs": [
    {
     "name": "stdout",
     "output_type": "stream",
     "text": [
      "              precision    recall  f1-score   support\n",
      "\n",
      "           0       0.48      0.06      0.11       490\n",
      "           1       0.74      0.13      0.22       484\n",
      "           2       0.36      0.94      0.52       511\n",
      "\n",
      "    accuracy                           0.39      1485\n",
      "   macro avg       0.52      0.38      0.28      1485\n",
      "weighted avg       0.52      0.39      0.29      1485\n",
      "\n"
     ]
    }
   ],
   "source": [
    "from sklearn.naive_bayes import MultinomialNB\n",
    "clf1 = Pipeline([\n",
    "    ('vectorizer',CountVectorizer(ngram_range=(1,2))),\n",
    "    (\"mnb\",MultinomialNB())\n",
    "])\n",
    "clf.fit(x_train,y_train)\n",
    "\n",
    "ypred=clf.predict(x_test)\n",
    "print(classification_report(y_test,ypred))"
   ]
  },
  {
   "cell_type": "raw",
   "id": "a9622faa",
   "metadata": {},
   "source": [
    "Attempt 3 :\n",
    "\n",
    "using the sklearn pipeline module create a classification pipeline to classify the data.\n",
    "Note:\n",
    "\n",
    "using CountVectorizer with both unigram and bigrams.\n",
    "use RandomForest as the classifier.\n",
    "print the classification report."
   ]
  },
  {
   "cell_type": "code",
   "execution_count": 33,
   "id": "125db568",
   "metadata": {},
   "outputs": [
    {
     "name": "stdout",
     "output_type": "stream",
     "text": [
      "              precision    recall  f1-score   support\n",
      "\n",
      "           0       0.83      0.95      0.88       490\n",
      "           1       0.94      0.86      0.90       484\n",
      "           2       0.93      0.87      0.90       511\n",
      "\n",
      "    accuracy                           0.89      1485\n",
      "   macro avg       0.90      0.89      0.89      1485\n",
      "weighted avg       0.90      0.89      0.89      1485\n",
      "\n"
     ]
    }
   ],
   "source": [
    "from sklearn.ensemble import RandomForestClassifier\n",
    "\n",
    "clf1= Pipeline([\n",
    "    ('vectorizer',CountVectorizer(ngram_range=(1,2))),\n",
    "    ('rf',RandomForestClassifier())\n",
    "    \n",
    "    \n",
    "])\n",
    "\n",
    "clf1.fit(x_train,y_train)\n",
    "\n",
    "ypred1= clf1.predict(x_test)\n",
    "\n",
    "print(classification_report(y_test,ypred1))\n",
    "\n"
   ]
  },
  {
   "cell_type": "raw",
   "id": "ff8e3398",
   "metadata": {},
   "source": [
    "Attempt 4 :\n",
    "\n",
    "using the sklearn pipeline module create a classification pipeline to classify the Data.\n",
    "Note:\n",
    "\n",
    "using TF-IDF vectorizer for pre-processing the text.\n",
    "use RandomForest as the classifier.\n",
    "print the classification report."
   ]
  },
  {
   "cell_type": "code",
   "execution_count": 34,
   "id": "423fba52",
   "metadata": {},
   "outputs": [
    {
     "name": "stdout",
     "output_type": "stream",
     "text": [
      "              precision    recall  f1-score   support\n",
      "\n",
      "           0       0.88      0.94      0.91       490\n",
      "           1       0.93      0.89      0.91       484\n",
      "           2       0.93      0.90      0.91       511\n",
      "\n",
      "    accuracy                           0.91      1485\n",
      "   macro avg       0.91      0.91      0.91      1485\n",
      "weighted avg       0.91      0.91      0.91      1485\n",
      "\n"
     ]
    }
   ],
   "source": [
    "from sklearn.feature_extraction.text import TfidfVectorizer\n",
    "clf2=Pipeline([\n",
    "    ('vectorizer',TfidfVectorizer()),\n",
    "    ('rf',RandomForestClassifier())\n",
    "])\n",
    "\n",
    "clf2.fit(x_train,y_train)\n",
    "\n",
    "ypred2 = clf2.predict(x_test)\n",
    "\n",
    "print(classification_report(y_test,ypred2))\n"
   ]
  },
  {
   "cell_type": "markdown",
   "id": "e8c6ad8e",
   "metadata": {},
   "source": [
    "# Use text pre-processing to remove stop words, punctuations and apply lemmatization"
   ]
  },
  {
   "cell_type": "code",
   "execution_count": 41,
   "id": "703c7786",
   "metadata": {},
   "outputs": [],
   "source": [
    "import spacy\n",
    "nlp=spacy.load(\"en_core_web_sm\")\n",
    "\n",
    "\n",
    "def preprocess(text):\n",
    "    doc= nlp(text)\n",
    "\n",
    "    filter_tokens=[]\n",
    "    for word in doc:\n",
    "        if word.is_stop or word.is_punct:\n",
    "            continue\n",
    "        filter_tokens.append(word.lemma_)\n",
    "\n",
    "    return \" \".join(filter_tokens)"
   ]
  },
  {
   "cell_type": "code",
   "execution_count": 42,
   "id": "97746bdd",
   "metadata": {},
   "outputs": [],
   "source": [
    "data['Comment_preprocess']=data['Comment'].apply(preprocess)"
   ]
  },
  {
   "cell_type": "code",
   "execution_count": 48,
   "id": "50f150fb",
   "metadata": {},
   "outputs": [
    {
     "data": {
      "text/html": [
       "<div>\n",
       "<style scoped>\n",
       "    .dataframe tbody tr th:only-of-type {\n",
       "        vertical-align: middle;\n",
       "    }\n",
       "\n",
       "    .dataframe tbody tr th {\n",
       "        vertical-align: top;\n",
       "    }\n",
       "\n",
       "    .dataframe thead th {\n",
       "        text-align: right;\n",
       "    }\n",
       "</style>\n",
       "<table border=\"1\" class=\"dataframe\">\n",
       "  <thead>\n",
       "    <tr style=\"text-align: right;\">\n",
       "      <th></th>\n",
       "      <th>Comment</th>\n",
       "      <th>Emotion</th>\n",
       "      <th>emotion_coding</th>\n",
       "      <th>Comment_preprocess</th>\n",
       "    </tr>\n",
       "  </thead>\n",
       "  <tbody>\n",
       "    <tr>\n",
       "      <th>0</th>\n",
       "      <td>i seriously hate one subject to death but now ...</td>\n",
       "      <td>fear</td>\n",
       "      <td>1</td>\n",
       "      <td>seriously hate subject death feel reluctant drop</td>\n",
       "    </tr>\n",
       "    <tr>\n",
       "      <th>1</th>\n",
       "      <td>im so full of life i feel appalled</td>\n",
       "      <td>anger</td>\n",
       "      <td>2</td>\n",
       "      <td>m life feel appalled</td>\n",
       "    </tr>\n",
       "    <tr>\n",
       "      <th>2</th>\n",
       "      <td>i sit here to write i start to dig out my feel...</td>\n",
       "      <td>fear</td>\n",
       "      <td>1</td>\n",
       "      <td>sit write start dig feeling think afraid accep...</td>\n",
       "    </tr>\n",
       "    <tr>\n",
       "      <th>3</th>\n",
       "      <td>ive been really angry with r and i feel like a...</td>\n",
       "      <td>joy</td>\n",
       "      <td>0</td>\n",
       "      <td>ve angry r feel like idiot trust place</td>\n",
       "    </tr>\n",
       "    <tr>\n",
       "      <th>4</th>\n",
       "      <td>i feel suspicious if there is no one outside l...</td>\n",
       "      <td>fear</td>\n",
       "      <td>1</td>\n",
       "      <td>feel suspicious outside like rapture happen</td>\n",
       "    </tr>\n",
       "  </tbody>\n",
       "</table>\n",
       "</div>"
      ],
      "text/plain": [
       "                                             Comment Emotion  emotion_coding  \\\n",
       "0  i seriously hate one subject to death but now ...    fear               1   \n",
       "1                 im so full of life i feel appalled   anger               2   \n",
       "2  i sit here to write i start to dig out my feel...    fear               1   \n",
       "3  ive been really angry with r and i feel like a...     joy               0   \n",
       "4  i feel suspicious if there is no one outside l...    fear               1   \n",
       "\n",
       "                                  Comment_preprocess  \n",
       "0   seriously hate subject death feel reluctant drop  \n",
       "1                               m life feel appalled  \n",
       "2  sit write start dig feeling think afraid accep...  \n",
       "3             ve angry r feel like idiot trust place  \n",
       "4        feel suspicious outside like rapture happen  "
      ]
     },
     "execution_count": 48,
     "metadata": {},
     "output_type": "execute_result"
    }
   ],
   "source": [
    "data[:5]"
   ]
  },
  {
   "cell_type": "markdown",
   "id": "2503b2ba",
   "metadata": {},
   "source": [
    "# build model with prepocessed text"
   ]
  },
  {
   "cell_type": "raw",
   "id": "7ab6bbd5",
   "metadata": {},
   "source": [
    "Let's check the scores with our best model till now\n",
    "\n",
    "Random Forest\n",
    "Attempt1 :\n",
    "\n",
    "using the sklearn pipeline module create a classification pipeline to classify the data.\n",
    "Note:\n",
    "\n",
    "using CountVectorizer with both unigrams and bigrams.\n",
    "use RandomForest as the classifier.\n",
    "print the classification report."
   ]
  },
  {
   "cell_type": "code",
   "execution_count": 52,
   "id": "2168d854",
   "metadata": {},
   "outputs": [
    {
     "name": "stdout",
     "output_type": "stream",
     "text": [
      "              precision    recall  f1-score   support\n",
      "\n",
      "           0       0.91      0.95      0.93       399\n",
      "           1       0.94      0.90      0.92       387\n",
      "           2       0.92      0.92      0.92       402\n",
      "\n",
      "    accuracy                           0.92      1188\n",
      "   macro avg       0.92      0.92      0.92      1188\n",
      "weighted avg       0.92      0.92      0.92      1188\n",
      "\n"
     ]
    }
   ],
   "source": [
    "from sklearn.model_selection import train_test_split\n",
    "x_train,x_test,y_train,y_test=train_test_split(data['Comment_preprocess'],data['emotion_coding'],test_size=0.2)\n",
    "clf3=Pipeline([\n",
    "    ('vectorizer',CountVectorizer(ngram_range=(1,2))),\n",
    "    ('rf',RandomForestClassifier())\n",
    "])\n",
    "\n",
    "clf3.fit(x_train,y_train)\n",
    "\n",
    "ypred3 = clf3.predict(x_test)\n",
    "\n",
    "print(classification_report(y_test,ypred3))"
   ]
  },
  {
   "cell_type": "raw",
   "id": "9224b2c6",
   "metadata": {},
   "source": [
    "Attempt 2 :\n",
    "\n",
    "using the sklearn pipeline module create a classification pipeline to classify the data.\n",
    "Note:\n",
    "\n",
    "using TF-IDF vectorizer for pre-processing the text.\n",
    "use RandomForest as the classifier.\n",
    "print the classification report."
   ]
  },
  {
   "cell_type": "code",
   "execution_count": 53,
   "id": "ce782ab6",
   "metadata": {},
   "outputs": [
    {
     "name": "stdout",
     "output_type": "stream",
     "text": [
      "              precision    recall  f1-score   support\n",
      "\n",
      "           0       0.93      0.96      0.94       395\n",
      "           1       0.96      0.92      0.93       400\n",
      "           2       0.91      0.92      0.92       393\n",
      "\n",
      "    accuracy                           0.93      1188\n",
      "   macro avg       0.93      0.93      0.93      1188\n",
      "weighted avg       0.93      0.93      0.93      1188\n",
      "\n"
     ]
    }
   ],
   "source": [
    "x_train,x_test,y_train,y_test=train_test_split(data['Comment_preprocess'],data['emotion_coding'],test_size=0.2)\n",
    "clf4=Pipeline([\n",
    "    ('vectorizer',TfidfVectorizer()),\n",
    "    ('rf',RandomForestClassifier())\n",
    "])\n",
    "\n",
    "clf4.fit(x_train,y_train)\n",
    "\n",
    "ypred4 = clf4.predict(x_test)\n",
    "\n",
    "print(classification_report(y_test,ypred4))"
   ]
  },
  {
   "cell_type": "code",
   "execution_count": null,
   "id": "1fcf39ba",
   "metadata": {},
   "outputs": [],
   "source": []
  }
 ],
 "metadata": {
  "kernelspec": {
   "display_name": "Python 3 (ipykernel)",
   "language": "python",
   "name": "python3"
  },
  "language_info": {
   "codemirror_mode": {
    "name": "ipython",
    "version": 3
   },
   "file_extension": ".py",
   "mimetype": "text/x-python",
   "name": "python",
   "nbconvert_exporter": "python",
   "pygments_lexer": "ipython3",
   "version": "3.7.6"
  }
 },
 "nbformat": 4,
 "nbformat_minor": 5
}
