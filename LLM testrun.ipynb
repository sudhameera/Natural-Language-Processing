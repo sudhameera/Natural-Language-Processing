{
 "cells": [
  {
   "cell_type": "code",
   "execution_count": 1,
   "id": "ed95db57",
   "metadata": {},
   "outputs": [
    {
     "name": "stdout",
     "output_type": "stream",
     "text": [
      "Collecting openai\n",
      "  Downloading openai-1.3.4-py3-none-any.whl (220 kB)\n",
      "     ------------------------------------ 220.5/220.5 kB 336.5 kB/s eta 0:00:00\n",
      "Collecting pydantic<3,>=1.9.0\n",
      "  Downloading pydantic-2.5.1-py3-none-any.whl (381 kB)\n",
      "     -------------------------------------- 381.6/381.6 kB 3.4 MB/s eta 0:00:00\n",
      "Collecting httpx<1,>=0.23.0\n",
      "  Downloading httpx-0.24.1-py3-none-any.whl (75 kB)\n",
      "     ---------------------------------------- 75.4/75.4 kB 2.1 MB/s eta 0:00:00\n",
      "Requirement already satisfied: typing-extensions<5,>=4.5 in c:\\users\\venka\\anaconda3\\envs\\aiml\\lib\\site-packages (from openai) (4.7.1)\n",
      "Collecting distro<2,>=1.7.0\n",
      "  Downloading distro-1.8.0-py3-none-any.whl (20 kB)\n",
      "Requirement already satisfied: anyio<4,>=3.5.0 in c:\\users\\venka\\anaconda3\\envs\\aiml\\lib\\site-packages (from openai) (3.5.0)\n",
      "Requirement already satisfied: tqdm>4 in c:\\users\\venka\\anaconda3\\envs\\aiml\\lib\\site-packages (from openai) (4.66.1)\n",
      "Requirement already satisfied: idna>=2.8 in c:\\users\\venka\\anaconda3\\envs\\aiml\\lib\\site-packages (from anyio<4,>=3.5.0->openai) (3.4)\n",
      "Requirement already satisfied: sniffio>=1.1 in c:\\users\\venka\\anaconda3\\envs\\aiml\\lib\\site-packages (from anyio<4,>=3.5.0->openai) (1.2.0)\n",
      "Requirement already satisfied: certifi in c:\\users\\venka\\anaconda3\\envs\\aiml\\lib\\site-packages (from httpx<1,>=0.23.0->openai) (2022.12.7)\n",
      "Collecting httpcore<0.18.0,>=0.15.0\n",
      "  Downloading httpcore-0.17.3-py3-none-any.whl (74 kB)\n",
      "     ---------------------------------------- 74.5/74.5 kB 2.0 MB/s eta 0:00:00\n",
      "Requirement already satisfied: importlib-metadata in c:\\users\\venka\\anaconda3\\envs\\aiml\\lib\\site-packages (from pydantic<3,>=1.9.0->openai) (4.11.3)\n",
      "Collecting pydantic-core==2.14.3\n",
      "  Downloading pydantic_core-2.14.3-cp37-none-win_amd64.whl (1.9 MB)\n",
      "     ---------------------------------------- 1.9/1.9 MB 8.6 MB/s eta 0:00:00\n",
      "Collecting annotated-types>=0.4.0\n",
      "  Downloading annotated_types-0.5.0-py3-none-any.whl (11 kB)\n",
      "Requirement already satisfied: colorama in c:\\users\\venka\\anaconda3\\envs\\aiml\\lib\\site-packages (from tqdm>4->openai) (0.4.6)\n",
      "Collecting h11<0.15,>=0.13\n",
      "  Downloading h11-0.14.0-py3-none-any.whl (58 kB)\n",
      "     ---------------------------------------- 58.3/58.3 kB 1.0 MB/s eta 0:00:00\n",
      "Requirement already satisfied: zipp>=0.5 in c:\\users\\venka\\anaconda3\\envs\\aiml\\lib\\site-packages (from importlib-metadata->pydantic<3,>=1.9.0->openai) (3.11.0)\n",
      "Installing collected packages: pydantic-core, h11, distro, annotated-types, pydantic, httpcore, httpx, openai\n",
      "Successfully installed annotated-types-0.5.0 distro-1.8.0 h11-0.14.0 httpcore-0.17.3 httpx-0.24.1 openai-1.3.4 pydantic-2.5.1 pydantic-core-2.14.3\n"
     ]
    }
   ],
   "source": [
    "#!pip install openai"
   ]
  },
  {
   "cell_type": "code",
   "execution_count": 3,
   "id": "6dc52941",
   "metadata": {},
   "outputs": [
    {
     "ename": "AttributeError",
     "evalue": "module 'typing_extensions' has no attribute 'deprecated'",
     "output_type": "error",
     "traceback": [
      "\u001b[1;31m---------------------------------------------------------------------------\u001b[0m",
      "\u001b[1;31mAttributeError\u001b[0m                            Traceback (most recent call last)",
      "\u001b[1;32m~\\AppData\\Local\\Temp\\ipykernel_13032\\1258285692.py\u001b[0m in \u001b[0;36m<module>\u001b[1;34m\u001b[0m\n\u001b[1;32m----> 1\u001b[1;33m \u001b[1;32mfrom\u001b[0m \u001b[0mopenai\u001b[0m \u001b[1;32mimport\u001b[0m \u001b[0mOpenAI\u001b[0m\u001b[1;33m\u001b[0m\u001b[1;33m\u001b[0m\u001b[0m\n\u001b[0m",
      "\u001b[1;32m~\\anaconda3\\envs\\aiml\\lib\\site-packages\\openai\\__init__.py\u001b[0m in \u001b[0;36m<module>\u001b[1;34m\u001b[0m\n\u001b[0;32m      9\u001b[0m \u001b[1;32mfrom\u001b[0m \u001b[1;33m.\u001b[0m\u001b[0m_types\u001b[0m \u001b[1;32mimport\u001b[0m \u001b[0mNoneType\u001b[0m\u001b[1;33m,\u001b[0m \u001b[0mTransport\u001b[0m\u001b[1;33m,\u001b[0m \u001b[0mProxiesTypes\u001b[0m\u001b[1;33m\u001b[0m\u001b[1;33m\u001b[0m\u001b[0m\n\u001b[0;32m     10\u001b[0m \u001b[1;32mfrom\u001b[0m \u001b[1;33m.\u001b[0m\u001b[0m_utils\u001b[0m \u001b[1;32mimport\u001b[0m \u001b[0mfile_from_path\u001b[0m\u001b[1;33m\u001b[0m\u001b[1;33m\u001b[0m\u001b[0m\n\u001b[1;32m---> 11\u001b[1;33m from ._client import (\n\u001b[0m\u001b[0;32m     12\u001b[0m     \u001b[0mClient\u001b[0m\u001b[1;33m,\u001b[0m\u001b[1;33m\u001b[0m\u001b[1;33m\u001b[0m\u001b[0m\n\u001b[0;32m     13\u001b[0m     \u001b[0mOpenAI\u001b[0m\u001b[1;33m,\u001b[0m\u001b[1;33m\u001b[0m\u001b[1;33m\u001b[0m\u001b[0m\n",
      "\u001b[1;32m~\\anaconda3\\envs\\aiml\\lib\\site-packages\\openai\\_client.py\u001b[0m in \u001b[0;36m<module>\u001b[1;34m\u001b[0m\n\u001b[0;32m     10\u001b[0m \u001b[1;32mimport\u001b[0m \u001b[0mhttpx\u001b[0m\u001b[1;33m\u001b[0m\u001b[1;33m\u001b[0m\u001b[0m\n\u001b[0;32m     11\u001b[0m \u001b[1;33m\u001b[0m\u001b[0m\n\u001b[1;32m---> 12\u001b[1;33m \u001b[1;32mfrom\u001b[0m \u001b[1;33m.\u001b[0m \u001b[1;32mimport\u001b[0m \u001b[0mresources\u001b[0m\u001b[1;33m,\u001b[0m \u001b[0m_exceptions\u001b[0m\u001b[1;33m\u001b[0m\u001b[1;33m\u001b[0m\u001b[0m\n\u001b[0m\u001b[0;32m     13\u001b[0m \u001b[1;32mfrom\u001b[0m \u001b[1;33m.\u001b[0m\u001b[0m_qs\u001b[0m \u001b[1;32mimport\u001b[0m \u001b[0mQuerystring\u001b[0m\u001b[1;33m\u001b[0m\u001b[1;33m\u001b[0m\u001b[0m\n\u001b[0;32m     14\u001b[0m from ._types import (\n",
      "\u001b[1;32m~\\anaconda3\\envs\\aiml\\lib\\site-packages\\openai\\resources\\__init__.py\u001b[0m in \u001b[0;36m<module>\u001b[1;34m\u001b[0m\n\u001b[0;32m      4\u001b[0m \u001b[1;32mfrom\u001b[0m \u001b[1;33m.\u001b[0m\u001b[0mchat\u001b[0m \u001b[1;32mimport\u001b[0m \u001b[0mChat\u001b[0m\u001b[1;33m,\u001b[0m \u001b[0mAsyncChat\u001b[0m\u001b[1;33m,\u001b[0m \u001b[0mChatWithRawResponse\u001b[0m\u001b[1;33m,\u001b[0m \u001b[0mAsyncChatWithRawResponse\u001b[0m\u001b[1;33m\u001b[0m\u001b[1;33m\u001b[0m\u001b[0m\n\u001b[0;32m      5\u001b[0m \u001b[1;32mfrom\u001b[0m \u001b[1;33m.\u001b[0m\u001b[0maudio\u001b[0m \u001b[1;32mimport\u001b[0m \u001b[0mAudio\u001b[0m\u001b[1;33m,\u001b[0m \u001b[0mAsyncAudio\u001b[0m\u001b[1;33m,\u001b[0m \u001b[0mAudioWithRawResponse\u001b[0m\u001b[1;33m,\u001b[0m \u001b[0mAsyncAudioWithRawResponse\u001b[0m\u001b[1;33m\u001b[0m\u001b[1;33m\u001b[0m\u001b[0m\n\u001b[1;32m----> 6\u001b[1;33m \u001b[1;32mfrom\u001b[0m \u001b[1;33m.\u001b[0m\u001b[0medits\u001b[0m \u001b[1;32mimport\u001b[0m \u001b[0mEdits\u001b[0m\u001b[1;33m,\u001b[0m \u001b[0mAsyncEdits\u001b[0m\u001b[1;33m,\u001b[0m \u001b[0mEditsWithRawResponse\u001b[0m\u001b[1;33m,\u001b[0m \u001b[0mAsyncEditsWithRawResponse\u001b[0m\u001b[1;33m\u001b[0m\u001b[1;33m\u001b[0m\u001b[0m\n\u001b[0m\u001b[0;32m      7\u001b[0m \u001b[1;32mfrom\u001b[0m \u001b[1;33m.\u001b[0m\u001b[0mfiles\u001b[0m \u001b[1;32mimport\u001b[0m \u001b[0mFiles\u001b[0m\u001b[1;33m,\u001b[0m \u001b[0mAsyncFiles\u001b[0m\u001b[1;33m,\u001b[0m \u001b[0mFilesWithRawResponse\u001b[0m\u001b[1;33m,\u001b[0m \u001b[0mAsyncFilesWithRawResponse\u001b[0m\u001b[1;33m\u001b[0m\u001b[1;33m\u001b[0m\u001b[0m\n\u001b[0;32m      8\u001b[0m from .images import (\n",
      "\u001b[1;32m~\\anaconda3\\envs\\aiml\\lib\\site-packages\\openai\\resources\\edits.py\u001b[0m in \u001b[0;36m<module>\u001b[1;34m\u001b[0m\n\u001b[0;32m     22\u001b[0m \u001b[1;33m\u001b[0m\u001b[0m\n\u001b[0;32m     23\u001b[0m \u001b[1;33m\u001b[0m\u001b[0m\n\u001b[1;32m---> 24\u001b[1;33m \u001b[1;32mclass\u001b[0m \u001b[0mEdits\u001b[0m\u001b[1;33m(\u001b[0m\u001b[0mSyncAPIResource\u001b[0m\u001b[1;33m)\u001b[0m\u001b[1;33m:\u001b[0m\u001b[1;33m\u001b[0m\u001b[1;33m\u001b[0m\u001b[0m\n\u001b[0m\u001b[0;32m     25\u001b[0m     \u001b[0mwith_raw_response\u001b[0m\u001b[1;33m:\u001b[0m \u001b[0mEditsWithRawResponse\u001b[0m\u001b[1;33m\u001b[0m\u001b[1;33m\u001b[0m\u001b[0m\n\u001b[0;32m     26\u001b[0m \u001b[1;33m\u001b[0m\u001b[0m\n",
      "\u001b[1;32m~\\anaconda3\\envs\\aiml\\lib\\site-packages\\openai\\resources\\edits.py\u001b[0m in \u001b[0;36mEdits\u001b[1;34m()\u001b[0m\n\u001b[0;32m     29\u001b[0m         \u001b[0mself\u001b[0m\u001b[1;33m.\u001b[0m\u001b[0mwith_raw_response\u001b[0m \u001b[1;33m=\u001b[0m \u001b[0mEditsWithRawResponse\u001b[0m\u001b[1;33m(\u001b[0m\u001b[0mself\u001b[0m\u001b[1;33m)\u001b[0m\u001b[1;33m\u001b[0m\u001b[1;33m\u001b[0m\u001b[0m\n\u001b[0;32m     30\u001b[0m \u001b[1;33m\u001b[0m\u001b[0m\n\u001b[1;32m---> 31\u001b[1;33m     @typing_extensions.deprecated(\n\u001b[0m\u001b[0;32m     32\u001b[0m         \u001b[1;34m\"The Edits API is deprecated; please use Chat Completions instead.\\n\\nhttps://openai.com/blog/gpt-4-api-general-availability#deprecation-of-the-edits-api\\n\"\u001b[0m\u001b[1;33m\u001b[0m\u001b[1;33m\u001b[0m\u001b[0m\n\u001b[0;32m     33\u001b[0m     )\n",
      "\u001b[1;31mAttributeError\u001b[0m: module 'typing_extensions' has no attribute 'deprecated'"
     ]
    }
   ],
   "source": [
    "from openai import OpenAI\n"
   ]
  },
  {
   "cell_type": "code",
   "execution_count": null,
   "id": "79bf13b8",
   "metadata": {},
   "outputs": [],
   "source": [
    "openai.api_key = 'test_veQAbAy0K2W2RE66js60uYi9Hm59irYYxkKvKY48'\n",
    "reponse = openai.chatcompletion.create(\n",
    "model=\"gpt-3.5-turbo\",\n",
    "messages =[\n",
    "    {role:'user',content:'who won the cricket world cup 2022?'}\n",
    "])\n",
    "print(response.choices[0]['message']['content'])"
   ]
  }
 ],
 "metadata": {
  "kernelspec": {
   "display_name": "Python 3 (ipykernel)",
   "language": "python",
   "name": "python3"
  },
  "language_info": {
   "codemirror_mode": {
    "name": "ipython",
    "version": 3
   },
   "file_extension": ".py",
   "mimetype": "text/x-python",
   "name": "python",
   "nbconvert_exporter": "python",
   "pygments_lexer": "ipython3",
   "version": "3.7.6"
  }
 },
 "nbformat": 4,
 "nbformat_minor": 5
}
