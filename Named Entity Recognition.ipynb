{
 "cells": [
  {
   "cell_type": "code",
   "execution_count": 1,
   "id": "0f8f2918",
   "metadata": {},
   "outputs": [],
   "source": [
    "import spacy\n",
    "nlp = spacy.load(\"en_core_web_sm\")"
   ]
  },
  {
   "cell_type": "code",
   "execution_count": 2,
   "id": "8f952f4d",
   "metadata": {},
   "outputs": [
    {
     "data": {
      "text/plain": [
       "['tok2vec', 'tagger', 'parser', 'attribute_ruler', 'lemmatizer', 'ner']"
      ]
     },
     "execution_count": 2,
     "metadata": {},
     "output_type": "execute_result"
    }
   ],
   "source": [
    "nlp.pipe_names"
   ]
  },
  {
   "cell_type": "code",
   "execution_count": 4,
   "id": "8ba0bda7",
   "metadata": {},
   "outputs": [
    {
     "name": "stdout",
     "output_type": "stream",
     "text": [
      "Tesla\n",
      "Twitter\n",
      "47 billion $\n",
      "today morning\n"
     ]
    }
   ],
   "source": [
    "text = '''Tesla is going to but Twitter for 47 billion $, It was announced in a press conference today morning'''\n",
    "\n",
    "doc = nlp(text)\n",
    "\n",
    "for word in doc.ents:\n",
    "    print(word)"
   ]
  },
  {
   "cell_type": "code",
   "execution_count": 5,
   "id": "bcbea4d9",
   "metadata": {},
   "outputs": [
    {
     "name": "stdout",
     "output_type": "stream",
     "text": [
      "Tesla | ORG | Companies, agencies, institutions, etc.\n",
      "Twitter | PERSON | People, including fictional\n",
      "47 billion $ | MONEY | Monetary values, including unit\n",
      "today morning | TIME | Times smaller than a day\n"
     ]
    }
   ],
   "source": [
    "for word in doc.ents:\n",
    "    print(word,\"|\",word.label_,\"|\",spacy.explain(word.label_))"
   ]
  },
  {
   "cell_type": "code",
   "execution_count": 6,
   "id": "3b75b91b",
   "metadata": {},
   "outputs": [
    {
     "data": {
      "text/html": [
       "<span class=\"tex2jax_ignore\"><div class=\"entities\" style=\"line-height: 2.5; direction: ltr\">\n",
       "<mark class=\"entity\" style=\"background: #7aecec; padding: 0.45em 0.6em; margin: 0 0.25em; line-height: 1; border-radius: 0.35em;\">\n",
       "    Tesla\n",
       "    <span style=\"font-size: 0.8em; font-weight: bold; line-height: 1; border-radius: 0.35em; vertical-align: middle; margin-left: 0.5rem\">ORG</span>\n",
       "</mark>\n",
       " is going to but \n",
       "<mark class=\"entity\" style=\"background: #aa9cfc; padding: 0.45em 0.6em; margin: 0 0.25em; line-height: 1; border-radius: 0.35em;\">\n",
       "    Twitter\n",
       "    <span style=\"font-size: 0.8em; font-weight: bold; line-height: 1; border-radius: 0.35em; vertical-align: middle; margin-left: 0.5rem\">PERSON</span>\n",
       "</mark>\n",
       " for \n",
       "<mark class=\"entity\" style=\"background: #e4e7d2; padding: 0.45em 0.6em; margin: 0 0.25em; line-height: 1; border-radius: 0.35em;\">\n",
       "    47 billion $\n",
       "    <span style=\"font-size: 0.8em; font-weight: bold; line-height: 1; border-radius: 0.35em; vertical-align: middle; margin-left: 0.5rem\">MONEY</span>\n",
       "</mark>\n",
       ", It was announced in a press conference \n",
       "<mark class=\"entity\" style=\"background: #bfe1d9; padding: 0.45em 0.6em; margin: 0 0.25em; line-height: 1; border-radius: 0.35em;\">\n",
       "    today morning\n",
       "    <span style=\"font-size: 0.8em; font-weight: bold; line-height: 1; border-radius: 0.35em; vertical-align: middle; margin-left: 0.5rem\">TIME</span>\n",
       "</mark>\n",
       "</div></span>"
      ],
      "text/plain": [
       "<IPython.core.display.HTML object>"
      ]
     },
     "metadata": {},
     "output_type": "display_data"
    }
   ],
   "source": [
    "from spacy import displacy\n",
    "displacy.render(doc,style=\"ent\")\n"
   ]
  },
  {
   "cell_type": "code",
   "execution_count": 8,
   "id": "83de9bab",
   "metadata": {},
   "outputs": [
    {
     "data": {
      "text/plain": [
       "['CARDINAL',\n",
       " 'DATE',\n",
       " 'EVENT',\n",
       " 'FAC',\n",
       " 'GPE',\n",
       " 'LANGUAGE',\n",
       " 'LAW',\n",
       " 'LOC',\n",
       " 'MONEY',\n",
       " 'NORP',\n",
       " 'ORDINAL',\n",
       " 'ORG',\n",
       " 'PERCENT',\n",
       " 'PERSON',\n",
       " 'PRODUCT',\n",
       " 'QUANTITY',\n",
       " 'TIME',\n",
       " 'WORK_OF_ART']"
      ]
     },
     "execution_count": 8,
     "metadata": {},
     "output_type": "execute_result"
    }
   ],
   "source": [
    "nlp.pipe_labels[\"ner\"]"
   ]
  },
  {
   "cell_type": "code",
   "execution_count": 9,
   "id": "739d61d6",
   "metadata": {},
   "outputs": [
    {
     "name": "stdout",
     "output_type": "stream",
     "text": [
      "Micheal Bloomberg\n",
      "Bloomberg\n",
      "1982\n"
     ]
    }
   ],
   "source": [
    "doc = nlp(\"Micheal Bloomberg founded Bloomberg in 1982 \" )\n",
    "\n",
    "for ent in doc.ents:\n",
    "    print(ent)"
   ]
  },
  {
   "cell_type": "code",
   "execution_count": 10,
   "id": "19729680",
   "metadata": {},
   "outputs": [
    {
     "data": {
      "text/html": [
       "<span class=\"tex2jax_ignore\"><div class=\"entities\" style=\"line-height: 2.5; direction: ltr\">\n",
       "<mark class=\"entity\" style=\"background: #aa9cfc; padding: 0.45em 0.6em; margin: 0 0.25em; line-height: 1; border-radius: 0.35em;\">\n",
       "    Micheal Bloomberg\n",
       "    <span style=\"font-size: 0.8em; font-weight: bold; line-height: 1; border-radius: 0.35em; vertical-align: middle; margin-left: 0.5rem\">PERSON</span>\n",
       "</mark>\n",
       " founded \n",
       "<mark class=\"entity\" style=\"background: #aa9cfc; padding: 0.45em 0.6em; margin: 0 0.25em; line-height: 1; border-radius: 0.35em;\">\n",
       "    Bloomberg\n",
       "    <span style=\"font-size: 0.8em; font-weight: bold; line-height: 1; border-radius: 0.35em; vertical-align: middle; margin-left: 0.5rem\">PERSON</span>\n",
       "</mark>\n",
       " in \n",
       "<mark class=\"entity\" style=\"background: #bfe1d9; padding: 0.45em 0.6em; margin: 0 0.25em; line-height: 1; border-radius: 0.35em;\">\n",
       "    1982\n",
       "    <span style=\"font-size: 0.8em; font-weight: bold; line-height: 1; border-radius: 0.35em; vertical-align: middle; margin-left: 0.5rem\">DATE</span>\n",
       "</mark>\n",
       " </div></span>"
      ],
      "text/plain": [
       "<IPython.core.display.HTML object>"
      ]
     },
     "metadata": {},
     "output_type": "display_data"
    }
   ],
   "source": [
    "displacy.render(doc,style=\"ent\")"
   ]
  },
  {
   "cell_type": "code",
   "execution_count": 12,
   "id": "a3915f35",
   "metadata": {},
   "outputs": [
    {
     "data": {
      "text/html": [
       "<span class=\"tex2jax_ignore\"><div class=\"entities\" style=\"line-height: 2.5; direction: ltr\">\n",
       "<mark class=\"entity\" style=\"background: #aa9cfc; padding: 0.45em 0.6em; margin: 0 0.25em; line-height: 1; border-radius: 0.35em;\">\n",
       "    Micheal Bloomberg\n",
       "    <span style=\"font-size: 0.8em; font-weight: bold; line-height: 1; border-radius: 0.35em; vertical-align: middle; margin-left: 0.5rem\">PERSON</span>\n",
       "</mark>\n",
       " founded \n",
       "<mark class=\"entity\" style=\"background: #7aecec; padding: 0.45em 0.6em; margin: 0 0.25em; line-height: 1; border-radius: 0.35em;\">\n",
       "    Bloomberg Inc\n",
       "    <span style=\"font-size: 0.8em; font-weight: bold; line-height: 1; border-radius: 0.35em; vertical-align: middle; margin-left: 0.5rem\">ORG</span>\n",
       "</mark>\n",
       " in \n",
       "<mark class=\"entity\" style=\"background: #bfe1d9; padding: 0.45em 0.6em; margin: 0 0.25em; line-height: 1; border-radius: 0.35em;\">\n",
       "    1982\n",
       "    <span style=\"font-size: 0.8em; font-weight: bold; line-height: 1; border-radius: 0.35em; vertical-align: middle; margin-left: 0.5rem\">DATE</span>\n",
       "</mark>\n",
       " </div></span>"
      ],
      "text/plain": [
       "<IPython.core.display.HTML object>"
      ]
     },
     "metadata": {},
     "output_type": "display_data"
    }
   ],
   "source": [
    "doc = nlp(\"Micheal Bloomberg founded Bloomberg Inc in 1982 \" )\n",
    "displacy.render(doc,style=\"ent\")"
   ]
  },
  {
   "cell_type": "code",
   "execution_count": 15,
   "id": "a8342e52",
   "metadata": {},
   "outputs": [
    {
     "data": {
      "text/plain": [
       "in"
      ]
     },
     "execution_count": 15,
     "metadata": {},
     "output_type": "execute_result"
    }
   ],
   "source": [
    "doc[5]"
   ]
  },
  {
   "cell_type": "code",
   "execution_count": 16,
   "id": "3c9d486b",
   "metadata": {},
   "outputs": [
    {
     "data": {
      "text/plain": [
       "Bloomberg founded Bloomberg Inc in"
      ]
     },
     "execution_count": 16,
     "metadata": {},
     "output_type": "execute_result"
    }
   ],
   "source": [
    "doc[1:6]"
   ]
  },
  {
   "cell_type": "code",
   "execution_count": 17,
   "id": "60e7203a",
   "metadata": {},
   "outputs": [
    {
     "data": {
      "text/plain": [
       "spacy.tokens.span.Span"
      ]
     },
     "execution_count": 17,
     "metadata": {},
     "output_type": "execute_result"
    }
   ],
   "source": [
    "type(doc[1:6])"
   ]
  },
  {
   "cell_type": "code",
   "execution_count": 18,
   "id": "d3c23ae7",
   "metadata": {},
   "outputs": [],
   "source": [
    "doc=nlp(\"Telsa is going to acquire Twitter for 47 billion $\")\n",
    "\n",
    "from spacy.tokens import Span\n",
    "\n",
    "s1= Span(doc, 0,1, label=\"ORG\")\n",
    "s2= Span(doc, 5,6, label=\"ORG\")\n",
    "doc.set_ents([s1,s2], default=\"unmodified\")"
   ]
  },
  {
   "cell_type": "code",
   "execution_count": 19,
   "id": "01aea507",
   "metadata": {},
   "outputs": [
    {
     "name": "stdout",
     "output_type": "stream",
     "text": [
      "Telsa | ORG\n",
      "Twitter | ORG\n",
      "47 billion $ | MONEY\n"
     ]
    }
   ],
   "source": [
    "for ent in doc.ents:\n",
    "    print(ent,\"|\", ent.label_)"
   ]
  },
  {
   "cell_type": "code",
   "execution_count": 24,
   "id": "6bcbfd7f",
   "metadata": {},
   "outputs": [
    {
     "name": "stdout",
     "output_type": "stream",
     "text": [
      "Kiran | ORG | Companies, agencies, institutions, etc.\n",
      "India | GPE | Countries, cities, states\n",
      "Google | ORG | Companies, agencies, institutions, etc.\n",
      "Google | ORG | Companies, agencies, institutions, etc.\n",
      "Delhi | GPE | Countries, cities, states\n",
      "Chaat | ORG | Companies, agencies, institutions, etc.\n",
      "Gujarat | GPE | Countries, cities, states\n",
      "Dal Dhokli | PERSON | People, including fictional\n",
      "Tamilnadu | GPE | Countries, cities, states\n",
      "Pongal | GPE | Countries, cities, states\n",
      "Andhrapradesh | GPE | Countries, cities, states\n",
      "Biryani | PERSON | People, including fictional\n",
      "Assam | GPE | Countries, cities, states\n",
      "Papaya Khar | PERSON | People, including fictional\n",
      "Bihar | GPE | Countries, cities, states\n",
      "Litti Chowkha | PERSON | People, including fictional\n"
     ]
    }
   ],
   "source": [
    "text = \"\"\"Kiran want to know the famous foods in each state of India. So, he opened Google and search for this question. Google showed that\n",
    "in Delhi it is Chaat, in Gujarat it is Dal Dhokli, in Tamilnadu it is Pongal, in Andhrapradesh it is Biryani, in Assam it is Papaya Khar,\n",
    "in Bihar it is Litti Chowkha and so on for all other states\"\"\"\n",
    "\n",
    "doc= nlp(text)\n",
    "\n",
    "for ent in doc.ents:\n",
    "    print(ent,\"|\",ent.label_,\"|\",spacy.explain(ent.label_))"
   ]
  },
  {
   "cell_type": "code",
   "execution_count": 26,
   "id": "368a11f2",
   "metadata": {},
   "outputs": [
    {
     "data": {
      "text/plain": [
       "[India, Delhi, Gujarat, Tamilnadu, Pongal, Andhrapradesh, Assam, Bihar]"
      ]
     },
     "execution_count": 26,
     "metadata": {},
     "output_type": "execute_result"
    }
   ],
   "source": [
    "gpe_loc=[]\n",
    "for ent in doc.ents:\n",
    "    if ent.label_==\"GPE\":\n",
    "        gpe_loc.append(ent)\n",
    "gpe_loc"
   ]
  },
  {
   "cell_type": "code",
   "execution_count": 27,
   "id": "e96cafe1",
   "metadata": {},
   "outputs": [
    {
     "name": "stdout",
     "output_type": "stream",
     "text": [
      "count: 8\n"
     ]
    }
   ],
   "source": [
    "print(\"count:\" ,len(gpe_loc))"
   ]
  },
  {
   "cell_type": "code",
   "execution_count": 30,
   "id": "eca4b027",
   "metadata": {},
   "outputs": [
    {
     "name": "stdout",
     "output_type": "stream",
     "text": [
      "Sachin Tendulkar | PERSON | People, including fictional\n",
      "24 April 1973 | DATE | Absolute or relative dates or periods\n",
      "Virat Kholi | LOC | Non-GPE locations, mountain ranges, bodies of water\n",
      "5 November 1988 | DATE | Absolute or relative dates or periods\n",
      "Dhoni | PERSON | People, including fictional\n",
      "7 July 1981 | DATE | Absolute or relative dates or periods\n",
      "Ricky | PERSON | People, including fictional\n",
      "19 December 1974 | DATE | Absolute or relative dates or periods\n"
     ]
    }
   ],
   "source": [
    "text = \"\"\"Sachin Tendulkar was born on 24 April 1973, Virat Kholi was born on 5 November 1988, Dhoni was born on 7 July 1981\n",
    "and finally Ricky ponting was born on 19 December 1974.\"\"\"\n",
    "\n",
    "doc= nlp(text)\n",
    "\n",
    "for ent in doc.ents:\n",
    "    print(ent,\"|\",ent.label_,\"|\",spacy.explain(ent.label_))"
   ]
  },
  {
   "cell_type": "code",
   "execution_count": 31,
   "id": "893df2a8",
   "metadata": {},
   "outputs": [],
   "source": [
    "Birth_date=[]\n",
    "for ent in doc.ents:\n",
    "    if ent.label_==\"DATE\":\n",
    "        Birth_date.append(ent)"
   ]
  },
  {
   "cell_type": "code",
   "execution_count": 32,
   "id": "2b79c589",
   "metadata": {},
   "outputs": [
    {
     "data": {
      "text/plain": [
       "[24 April 1973, 5 November 1988, 7 July 1981, 19 December 1974]"
      ]
     },
     "execution_count": 32,
     "metadata": {},
     "output_type": "execute_result"
    }
   ],
   "source": [
    "Birth_date\n"
   ]
  },
  {
   "cell_type": "code",
   "execution_count": null,
   "id": "8abbceaf",
   "metadata": {},
   "outputs": [],
   "source": []
  }
 ],
 "metadata": {
  "kernelspec": {
   "display_name": "Python 3 (ipykernel)",
   "language": "python",
   "name": "python3"
  },
  "language_info": {
   "codemirror_mode": {
    "name": "ipython",
    "version": 3
   },
   "file_extension": ".py",
   "mimetype": "text/x-python",
   "name": "python",
   "nbconvert_exporter": "python",
   "pygments_lexer": "ipython3",
   "version": "3.7.6"
  }
 },
 "nbformat": 4,
 "nbformat_minor": 5
}
