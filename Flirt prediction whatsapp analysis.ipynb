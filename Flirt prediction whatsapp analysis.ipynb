{
 "cells": [
  {
   "cell_type": "code",
   "execution_count": 4,
   "id": "7089167a",
   "metadata": {},
   "outputs": [],
   "source": [
    "import pandas as pd\n"
   ]
  },
  {
   "cell_type": "code",
   "execution_count": 2,
   "id": "927e9018",
   "metadata": {},
   "outputs": [],
   "source": [
    "data= pd.read_csv(\"Flirt Analysis.csv\")"
   ]
  },
  {
   "cell_type": "code",
   "execution_count": 3,
   "id": "6058d86a",
   "metadata": {},
   "outputs": [
    {
     "data": {
      "text/html": [
       "<div>\n",
       "<style scoped>\n",
       "    .dataframe tbody tr th:only-of-type {\n",
       "        vertical-align: middle;\n",
       "    }\n",
       "\n",
       "    .dataframe tbody tr th {\n",
       "        vertical-align: top;\n",
       "    }\n",
       "\n",
       "    .dataframe thead th {\n",
       "        text-align: right;\n",
       "    }\n",
       "</style>\n",
       "<table border=\"1\" class=\"dataframe\">\n",
       "  <thead>\n",
       "    <tr style=\"text-align: right;\">\n",
       "      <th></th>\n",
       "      <th>message</th>\n",
       "      <th>label</th>\n",
       "    </tr>\n",
       "  </thead>\n",
       "  <tbody>\n",
       "    <tr>\n",
       "      <th>0</th>\n",
       "      <td>cannot imagine like that, shut up</td>\n",
       "      <td>Not Flirt</td>\n",
       "    </tr>\n",
       "    <tr>\n",
       "      <th>1</th>\n",
       "      <td>its very strange, close it</td>\n",
       "      <td>Not Flirt</td>\n",
       "    </tr>\n",
       "    <tr>\n",
       "      <th>2</th>\n",
       "      <td>Hey, stranger. Stop being a stranger.</td>\n",
       "      <td>Flirt</td>\n",
       "    </tr>\n",
       "    <tr>\n",
       "      <th>3</th>\n",
       "      <td>Morning, you! Hope you’re having a good day!</td>\n",
       "      <td>Flirt</td>\n",
       "    </tr>\n",
       "    <tr>\n",
       "      <th>4</th>\n",
       "      <td>Never mind</td>\n",
       "      <td>Not Flirt</td>\n",
       "    </tr>\n",
       "  </tbody>\n",
       "</table>\n",
       "</div>"
      ],
      "text/plain": [
       "                                         message      label\n",
       "0              cannot imagine like that, shut up  Not Flirt\n",
       "1                     its very strange, close it  Not Flirt\n",
       "2          Hey, stranger. Stop being a stranger.      Flirt\n",
       "3   Morning, you! Hope you’re having a good day!      Flirt\n",
       "4                                     Never mind  Not Flirt"
      ]
     },
     "execution_count": 3,
     "metadata": {},
     "output_type": "execute_result"
    }
   ],
   "source": [
    "data[:5]"
   ]
  },
  {
   "cell_type": "code",
   "execution_count": 5,
   "id": "90a5d48d",
   "metadata": {},
   "outputs": [
    {
     "name": "stderr",
     "output_type": "stream",
     "text": [
      "C:\\Users\\venka\\anaconda3\\envs\\aiml\\lib\\site-packages\\IPython\\core\\interactiveshell.py:3457: FutureWarning: The error_bad_lines argument has been deprecated and will be removed in a future version.\n",
      "\n",
      "\n",
      "  exec(code_obj, self.user_global_ns, self.user_ns)\n",
      "b'Skipping line 11: expected 2 fields, saw 3\\nSkipping line 35: expected 2 fields, saw 3\\nSkipping line 41: expected 2 fields, saw 3\\nSkipping line 42: expected 2 fields, saw 3\\nSkipping line 52: expected 2 fields, saw 3\\nSkipping line 57: expected 2 fields, saw 3\\nSkipping line 62: expected 2 fields, saw 3\\nSkipping line 63: expected 2 fields, saw 3\\nSkipping line 67: expected 2 fields, saw 3\\nSkipping line 68: expected 2 fields, saw 3\\nSkipping line 72: expected 2 fields, saw 3\\nSkipping line 74: expected 2 fields, saw 3\\nSkipping line 87: expected 2 fields, saw 3\\nSkipping line 91: expected 2 fields, saw 3\\nSkipping line 95: expected 2 fields, saw 3\\nSkipping line 97: expected 2 fields, saw 3\\nSkipping line 127: expected 2 fields, saw 3\\n'\n"
     ]
    },
    {
     "data": {
      "text/html": [
       "<div>\n",
       "<style scoped>\n",
       "    .dataframe tbody tr th:only-of-type {\n",
       "        vertical-align: middle;\n",
       "    }\n",
       "\n",
       "    .dataframe tbody tr th {\n",
       "        vertical-align: top;\n",
       "    }\n",
       "\n",
       "    .dataframe thead th {\n",
       "        text-align: right;\n",
       "    }\n",
       "</style>\n",
       "<table border=\"1\" class=\"dataframe\">\n",
       "  <thead>\n",
       "    <tr style=\"text-align: right;\">\n",
       "      <th></th>\n",
       "      <th>0</th>\n",
       "      <th>1</th>\n",
       "    </tr>\n",
       "  </thead>\n",
       "  <tbody>\n",
       "    <tr>\n",
       "      <th>0</th>\n",
       "      <td>15/08/22</td>\n",
       "      <td>8:46 am - 😊: Started subha</td>\n",
       "    </tr>\n",
       "    <tr>\n",
       "      <th>1</th>\n",
       "      <td>18/08/22</td>\n",
       "      <td>9:13 am - 😊: Subha convey my birthday wishes ...</td>\n",
       "    </tr>\n",
       "    <tr>\n",
       "      <th>2</th>\n",
       "      <td>18/08/22</td>\n",
       "      <td>4:48 pm - subha Vaishu Mridhula: Thanks Sudha...</td>\n",
       "    </tr>\n",
       "    <tr>\n",
       "      <th>3</th>\n",
       "      <td>18/08/22</td>\n",
       "      <td>4:59 pm - 😊: Any plans for janmashtami?</td>\n",
       "    </tr>\n",
       "    <tr>\n",
       "      <th>4</th>\n",
       "      <td>18/08/22</td>\n",
       "      <td>5:03 pm - subha Vaishu Mridhula: Tomo only right</td>\n",
       "    </tr>\n",
       "  </tbody>\n",
       "</table>\n",
       "</div>"
      ],
      "text/plain": [
       "          0                                                  1\n",
       "0  15/08/22                         8:46 am - 😊: Started subha\n",
       "1  18/08/22   9:13 am - 😊: Subha convey my birthday wishes ...\n",
       "2  18/08/22   4:48 pm - subha Vaishu Mridhula: Thanks Sudha...\n",
       "3  18/08/22            4:59 pm - 😊: Any plans for janmashtami?\n",
       "4  18/08/22   5:03 pm - subha Vaishu Mridhula: Tomo only right"
      ]
     },
     "execution_count": 5,
     "metadata": {},
     "output_type": "execute_result"
    }
   ],
   "source": [
    "data1= pd.read_csv(\"whatsapp chat.txt\",header=None,error_bad_lines=False,encoding='utf8')\n",
    "data1[:5]"
   ]
  },
  {
   "cell_type": "code",
   "execution_count": 6,
   "id": "c5725ae5",
   "metadata": {},
   "outputs": [
    {
     "data": {
      "text/plain": [
       "(125, 2)"
      ]
     },
     "execution_count": 6,
     "metadata": {},
     "output_type": "execute_result"
    }
   ],
   "source": [
    "data1.shape"
   ]
  },
  {
   "cell_type": "markdown",
   "id": "7e061c4e",
   "metadata": {},
   "source": [
    "# Data Preprocessing\n"
   ]
  },
  {
   "cell_type": "code",
   "execution_count": 15,
   "id": "7710126a",
   "metadata": {},
   "outputs": [
    {
     "data": {
      "text/html": [
       "<div>\n",
       "<style scoped>\n",
       "    .dataframe tbody tr th:only-of-type {\n",
       "        vertical-align: middle;\n",
       "    }\n",
       "\n",
       "    .dataframe tbody tr th {\n",
       "        vertical-align: top;\n",
       "    }\n",
       "\n",
       "    .dataframe thead th {\n",
       "        text-align: right;\n",
       "    }\n",
       "</style>\n",
       "<table border=\"1\" class=\"dataframe\">\n",
       "  <thead>\n",
       "    <tr style=\"text-align: right;\">\n",
       "      <th></th>\n",
       "      <th>date</th>\n",
       "      <th>message</th>\n",
       "    </tr>\n",
       "  </thead>\n",
       "  <tbody>\n",
       "    <tr>\n",
       "      <th>0</th>\n",
       "      <td>15/08/22</td>\n",
       "      <td>8:46 am - 😊: Started subha</td>\n",
       "    </tr>\n",
       "    <tr>\n",
       "      <th>1</th>\n",
       "      <td>18/08/22</td>\n",
       "      <td>9:13 am - 😊: Subha convey my birthday wishes ...</td>\n",
       "    </tr>\n",
       "    <tr>\n",
       "      <th>2</th>\n",
       "      <td>18/08/22</td>\n",
       "      <td>4:48 pm - subha Vaishu Mridhula: Thanks Sudha...</td>\n",
       "    </tr>\n",
       "    <tr>\n",
       "      <th>3</th>\n",
       "      <td>18/08/22</td>\n",
       "      <td>4:59 pm - 😊: Any plans for janmashtami?</td>\n",
       "    </tr>\n",
       "    <tr>\n",
       "      <th>4</th>\n",
       "      <td>18/08/22</td>\n",
       "      <td>5:03 pm - subha Vaishu Mridhula: Tomo only right</td>\n",
       "    </tr>\n",
       "  </tbody>\n",
       "</table>\n",
       "</div>"
      ],
      "text/plain": [
       "       date                                            message\n",
       "0  15/08/22                         8:46 am - 😊: Started subha\n",
       "1  18/08/22   9:13 am - 😊: Subha convey my birthday wishes ...\n",
       "2  18/08/22   4:48 pm - subha Vaishu Mridhula: Thanks Sudha...\n",
       "3  18/08/22            4:59 pm - 😊: Any plans for janmashtami?\n",
       "4  18/08/22   5:03 pm - subha Vaishu Mridhula: Tomo only right"
      ]
     },
     "execution_count": 15,
     "metadata": {},
     "output_type": "execute_result"
    }
   ],
   "source": [
    "data1.columns = ['date','message']\n",
    "data1[:5]"
   ]
  },
  {
   "cell_type": "code",
   "execution_count": 16,
   "id": "38c44353",
   "metadata": {},
   "outputs": [
    {
     "data": {
      "text/html": [
       "<div>\n",
       "<style scoped>\n",
       "    .dataframe tbody tr th:only-of-type {\n",
       "        vertical-align: middle;\n",
       "    }\n",
       "\n",
       "    .dataframe tbody tr th {\n",
       "        vertical-align: top;\n",
       "    }\n",
       "\n",
       "    .dataframe thead th {\n",
       "        text-align: right;\n",
       "    }\n",
       "</style>\n",
       "<table border=\"1\" class=\"dataframe\">\n",
       "  <thead>\n",
       "    <tr style=\"text-align: right;\">\n",
       "      <th></th>\n",
       "      <th>0</th>\n",
       "      <th>1</th>\n",
       "    </tr>\n",
       "  </thead>\n",
       "  <tbody>\n",
       "    <tr>\n",
       "      <th>0</th>\n",
       "      <td>8:46 am</td>\n",
       "      <td>😊: Started subha</td>\n",
       "    </tr>\n",
       "    <tr>\n",
       "      <th>1</th>\n",
       "      <td>9:13 am</td>\n",
       "      <td>😊: Subha convey my birthday wishes to anna 🎂💐</td>\n",
       "    </tr>\n",
       "    <tr>\n",
       "      <th>2</th>\n",
       "      <td>4:48 pm</td>\n",
       "      <td>subha Vaishu Mridhula: Thanks Sudha😍 sure wil...</td>\n",
       "    </tr>\n",
       "    <tr>\n",
       "      <th>3</th>\n",
       "      <td>4:59 pm</td>\n",
       "      <td>😊: Any plans for janmashtami?</td>\n",
       "    </tr>\n",
       "    <tr>\n",
       "      <th>4</th>\n",
       "      <td>5:03 pm</td>\n",
       "      <td>subha Vaishu Mridhula: Tomo only right</td>\n",
       "    </tr>\n",
       "  </tbody>\n",
       "</table>\n",
       "</div>"
      ],
      "text/plain": [
       "           0                                                  1\n",
       "0   8:46 am                                    😊: Started subha\n",
       "1   9:13 am       😊: Subha convey my birthday wishes to anna 🎂💐\n",
       "2   4:48 pm    subha Vaishu Mridhula: Thanks Sudha😍 sure wil...\n",
       "3   4:59 pm                       😊: Any plans for janmashtami?\n",
       "4   5:03 pm              subha Vaishu Mridhula: Tomo only right"
      ]
     },
     "execution_count": 16,
     "metadata": {},
     "output_type": "execute_result"
    }
   ],
   "source": [
    "df = data1['message'].str.split(\"-\",n=1,expand=True)\n",
    "df[:5]"
   ]
  },
  {
   "cell_type": "code",
   "execution_count": 10,
   "id": "834086fd",
   "metadata": {},
   "outputs": [
    {
     "name": "stdout",
     "output_type": "stream",
     "text": [
      "<class 'pandas.core.frame.DataFrame'>\n",
      "RangeIndex: 125 entries, 0 to 124\n",
      "Data columns (total 2 columns):\n",
      " #   Column      Non-Null Count  Dtype \n",
      "---  ------      --------------  ----- \n",
      " 0   (date,)     125 non-null    object\n",
      " 1   (message,)  123 non-null    object\n",
      "dtypes: object(2)\n",
      "memory usage: 2.1+ KB\n"
     ]
    }
   ],
   "source": [
    "data1.info()"
   ]
  },
  {
   "cell_type": "code",
   "execution_count": 18,
   "id": "c24d437d",
   "metadata": {},
   "outputs": [
    {
     "data": {
      "text/html": [
       "<div>\n",
       "<style scoped>\n",
       "    .dataframe tbody tr th:only-of-type {\n",
       "        vertical-align: middle;\n",
       "    }\n",
       "\n",
       "    .dataframe tbody tr th {\n",
       "        vertical-align: top;\n",
       "    }\n",
       "\n",
       "    .dataframe thead th {\n",
       "        text-align: right;\n",
       "    }\n",
       "</style>\n",
       "<table border=\"1\" class=\"dataframe\">\n",
       "  <thead>\n",
       "    <tr style=\"text-align: right;\">\n",
       "      <th></th>\n",
       "      <th>date</th>\n",
       "      <th>message</th>\n",
       "      <th>Time</th>\n",
       "    </tr>\n",
       "  </thead>\n",
       "  <tbody>\n",
       "    <tr>\n",
       "      <th>0</th>\n",
       "      <td>15/08/22</td>\n",
       "      <td>8:46 am - 😊: Started subha</td>\n",
       "      <td>8:46 am</td>\n",
       "    </tr>\n",
       "    <tr>\n",
       "      <th>1</th>\n",
       "      <td>18/08/22</td>\n",
       "      <td>9:13 am - 😊: Subha convey my birthday wishes ...</td>\n",
       "      <td>9:13 am</td>\n",
       "    </tr>\n",
       "    <tr>\n",
       "      <th>2</th>\n",
       "      <td>18/08/22</td>\n",
       "      <td>4:48 pm - subha Vaishu Mridhula: Thanks Sudha...</td>\n",
       "      <td>4:48 pm</td>\n",
       "    </tr>\n",
       "    <tr>\n",
       "      <th>3</th>\n",
       "      <td>18/08/22</td>\n",
       "      <td>4:59 pm - 😊: Any plans for janmashtami?</td>\n",
       "      <td>4:59 pm</td>\n",
       "    </tr>\n",
       "    <tr>\n",
       "      <th>4</th>\n",
       "      <td>18/08/22</td>\n",
       "      <td>5:03 pm - subha Vaishu Mridhula: Tomo only right</td>\n",
       "      <td>5:03 pm</td>\n",
       "    </tr>\n",
       "  </tbody>\n",
       "</table>\n",
       "</div>"
      ],
      "text/plain": [
       "       date                                            message       Time\n",
       "0  15/08/22                         8:46 am - 😊: Started subha   8:46 am \n",
       "1  18/08/22   9:13 am - 😊: Subha convey my birthday wishes ...   9:13 am \n",
       "2  18/08/22   4:48 pm - subha Vaishu Mridhula: Thanks Sudha...   4:48 pm \n",
       "3  18/08/22            4:59 pm - 😊: Any plans for janmashtami?   4:59 pm \n",
       "4  18/08/22   5:03 pm - subha Vaishu Mridhula: Tomo only right   5:03 pm "
      ]
     },
     "execution_count": 18,
     "metadata": {},
     "output_type": "execute_result"
    }
   ],
   "source": [
    "data1['Time'] = df[0]\n",
    "data1[:5]"
   ]
  },
  {
   "cell_type": "code",
   "execution_count": 20,
   "id": "24dce32a",
   "metadata": {},
   "outputs": [
    {
     "data": {
      "text/html": [
       "<div>\n",
       "<style scoped>\n",
       "    .dataframe tbody tr th:only-of-type {\n",
       "        vertical-align: middle;\n",
       "    }\n",
       "\n",
       "    .dataframe tbody tr th {\n",
       "        vertical-align: top;\n",
       "    }\n",
       "\n",
       "    .dataframe thead th {\n",
       "        text-align: right;\n",
       "    }\n",
       "</style>\n",
       "<table border=\"1\" class=\"dataframe\">\n",
       "  <thead>\n",
       "    <tr style=\"text-align: right;\">\n",
       "      <th></th>\n",
       "      <th>0</th>\n",
       "      <th>1</th>\n",
       "    </tr>\n",
       "  </thead>\n",
       "  <tbody>\n",
       "    <tr>\n",
       "      <th>0</th>\n",
       "      <td>😊</td>\n",
       "      <td>Started subha</td>\n",
       "    </tr>\n",
       "    <tr>\n",
       "      <th>1</th>\n",
       "      <td>😊</td>\n",
       "      <td>Subha convey my birthday wishes to anna 🎂💐</td>\n",
       "    </tr>\n",
       "    <tr>\n",
       "      <th>2</th>\n",
       "      <td>subha Vaishu Mridhula</td>\n",
       "      <td>Thanks Sudha😍 sure will convey</td>\n",
       "    </tr>\n",
       "    <tr>\n",
       "      <th>3</th>\n",
       "      <td>😊</td>\n",
       "      <td>Any plans for janmashtami?</td>\n",
       "    </tr>\n",
       "    <tr>\n",
       "      <th>4</th>\n",
       "      <td>subha Vaishu Mridhula</td>\n",
       "      <td>Tomo only right</td>\n",
       "    </tr>\n",
       "  </tbody>\n",
       "</table>\n",
       "</div>"
      ],
      "text/plain": [
       "                        0                                            1\n",
       "0                       😊                                Started subha\n",
       "1                       😊   Subha convey my birthday wishes to anna 🎂💐\n",
       "2   subha Vaishu Mridhula               Thanks Sudha😍 sure will convey\n",
       "3                       😊                   Any plans for janmashtami?\n",
       "4   subha Vaishu Mridhula                              Tomo only right"
      ]
     },
     "execution_count": 20,
     "metadata": {},
     "output_type": "execute_result"
    }
   ],
   "source": [
    "df = df[1].str.split(\":\",n=1,expand=True)\n",
    "df[:5]"
   ]
  },
  {
   "cell_type": "code",
   "execution_count": 21,
   "id": "36ad7b11",
   "metadata": {},
   "outputs": [
    {
     "data": {
      "text/html": [
       "<div>\n",
       "<style scoped>\n",
       "    .dataframe tbody tr th:only-of-type {\n",
       "        vertical-align: middle;\n",
       "    }\n",
       "\n",
       "    .dataframe tbody tr th {\n",
       "        vertical-align: top;\n",
       "    }\n",
       "\n",
       "    .dataframe thead th {\n",
       "        text-align: right;\n",
       "    }\n",
       "</style>\n",
       "<table border=\"1\" class=\"dataframe\">\n",
       "  <thead>\n",
       "    <tr style=\"text-align: right;\">\n",
       "      <th></th>\n",
       "      <th>date</th>\n",
       "      <th>message</th>\n",
       "      <th>Time</th>\n",
       "      <th>sender</th>\n",
       "    </tr>\n",
       "  </thead>\n",
       "  <tbody>\n",
       "    <tr>\n",
       "      <th>0</th>\n",
       "      <td>15/08/22</td>\n",
       "      <td>8:46 am - 😊: Started subha</td>\n",
       "      <td>8:46 am</td>\n",
       "      <td>😊</td>\n",
       "    </tr>\n",
       "    <tr>\n",
       "      <th>1</th>\n",
       "      <td>18/08/22</td>\n",
       "      <td>9:13 am - 😊: Subha convey my birthday wishes ...</td>\n",
       "      <td>9:13 am</td>\n",
       "      <td>😊</td>\n",
       "    </tr>\n",
       "    <tr>\n",
       "      <th>2</th>\n",
       "      <td>18/08/22</td>\n",
       "      <td>4:48 pm - subha Vaishu Mridhula: Thanks Sudha...</td>\n",
       "      <td>4:48 pm</td>\n",
       "      <td>subha Vaishu Mridhula</td>\n",
       "    </tr>\n",
       "    <tr>\n",
       "      <th>3</th>\n",
       "      <td>18/08/22</td>\n",
       "      <td>4:59 pm - 😊: Any plans for janmashtami?</td>\n",
       "      <td>4:59 pm</td>\n",
       "      <td>😊</td>\n",
       "    </tr>\n",
       "    <tr>\n",
       "      <th>4</th>\n",
       "      <td>18/08/22</td>\n",
       "      <td>5:03 pm - subha Vaishu Mridhula: Tomo only right</td>\n",
       "      <td>5:03 pm</td>\n",
       "      <td>subha Vaishu Mridhula</td>\n",
       "    </tr>\n",
       "  </tbody>\n",
       "</table>\n",
       "</div>"
      ],
      "text/plain": [
       "       date                                            message       Time  \\\n",
       "0  15/08/22                         8:46 am - 😊: Started subha   8:46 am    \n",
       "1  18/08/22   9:13 am - 😊: Subha convey my birthday wishes ...   9:13 am    \n",
       "2  18/08/22   4:48 pm - subha Vaishu Mridhula: Thanks Sudha...   4:48 pm    \n",
       "3  18/08/22            4:59 pm - 😊: Any plans for janmashtami?   4:59 pm    \n",
       "4  18/08/22   5:03 pm - subha Vaishu Mridhula: Tomo only right   5:03 pm    \n",
       "\n",
       "                   sender  \n",
       "0                       😊  \n",
       "1                       😊  \n",
       "2   subha Vaishu Mridhula  \n",
       "3                       😊  \n",
       "4   subha Vaishu Mridhula  "
      ]
     },
     "execution_count": 21,
     "metadata": {},
     "output_type": "execute_result"
    }
   ],
   "source": [
    "data1['sender'] = df[0]\n",
    "data1[:5]"
   ]
  },
  {
   "cell_type": "code",
   "execution_count": 23,
   "id": "43220590",
   "metadata": {},
   "outputs": [
    {
     "data": {
      "text/html": [
       "<div>\n",
       "<style scoped>\n",
       "    .dataframe tbody tr th:only-of-type {\n",
       "        vertical-align: middle;\n",
       "    }\n",
       "\n",
       "    .dataframe tbody tr th {\n",
       "        vertical-align: top;\n",
       "    }\n",
       "\n",
       "    .dataframe thead th {\n",
       "        text-align: right;\n",
       "    }\n",
       "</style>\n",
       "<table border=\"1\" class=\"dataframe\">\n",
       "  <thead>\n",
       "    <tr style=\"text-align: right;\">\n",
       "      <th></th>\n",
       "      <th>date</th>\n",
       "      <th>message</th>\n",
       "      <th>Time</th>\n",
       "      <th>sender</th>\n",
       "      <th>chat</th>\n",
       "    </tr>\n",
       "  </thead>\n",
       "  <tbody>\n",
       "    <tr>\n",
       "      <th>0</th>\n",
       "      <td>15/08/22</td>\n",
       "      <td>8:46 am - 😊: Started subha</td>\n",
       "      <td>8:46 am</td>\n",
       "      <td>😊</td>\n",
       "      <td>Started subha</td>\n",
       "    </tr>\n",
       "    <tr>\n",
       "      <th>1</th>\n",
       "      <td>18/08/22</td>\n",
       "      <td>9:13 am - 😊: Subha convey my birthday wishes ...</td>\n",
       "      <td>9:13 am</td>\n",
       "      <td>😊</td>\n",
       "      <td>Subha convey my birthday wishes to anna 🎂💐</td>\n",
       "    </tr>\n",
       "    <tr>\n",
       "      <th>2</th>\n",
       "      <td>18/08/22</td>\n",
       "      <td>4:48 pm - subha Vaishu Mridhula: Thanks Sudha...</td>\n",
       "      <td>4:48 pm</td>\n",
       "      <td>subha Vaishu Mridhula</td>\n",
       "      <td>Thanks Sudha😍 sure will convey</td>\n",
       "    </tr>\n",
       "    <tr>\n",
       "      <th>3</th>\n",
       "      <td>18/08/22</td>\n",
       "      <td>4:59 pm - 😊: Any plans for janmashtami?</td>\n",
       "      <td>4:59 pm</td>\n",
       "      <td>😊</td>\n",
       "      <td>Any plans for janmashtami?</td>\n",
       "    </tr>\n",
       "    <tr>\n",
       "      <th>4</th>\n",
       "      <td>18/08/22</td>\n",
       "      <td>5:03 pm - subha Vaishu Mridhula: Tomo only right</td>\n",
       "      <td>5:03 pm</td>\n",
       "      <td>subha Vaishu Mridhula</td>\n",
       "      <td>Tomo only right</td>\n",
       "    </tr>\n",
       "  </tbody>\n",
       "</table>\n",
       "</div>"
      ],
      "text/plain": [
       "       date                                            message       Time  \\\n",
       "0  15/08/22                         8:46 am - 😊: Started subha   8:46 am    \n",
       "1  18/08/22   9:13 am - 😊: Subha convey my birthday wishes ...   9:13 am    \n",
       "2  18/08/22   4:48 pm - subha Vaishu Mridhula: Thanks Sudha...   4:48 pm    \n",
       "3  18/08/22            4:59 pm - 😊: Any plans for janmashtami?   4:59 pm    \n",
       "4  18/08/22   5:03 pm - subha Vaishu Mridhula: Tomo only right   5:03 pm    \n",
       "\n",
       "                   sender                                         chat  \n",
       "0                       😊                                Started subha  \n",
       "1                       😊   Subha convey my birthday wishes to anna 🎂💐  \n",
       "2   subha Vaishu Mridhula               Thanks Sudha😍 sure will convey  \n",
       "3                       😊                   Any plans for janmashtami?  \n",
       "4   subha Vaishu Mridhula                              Tomo only right  "
      ]
     },
     "execution_count": 23,
     "metadata": {},
     "output_type": "execute_result"
    }
   ],
   "source": [
    "data1['chat'] = df[1]\n",
    "\n",
    "data1[:5]"
   ]
  },
  {
   "cell_type": "code",
   "execution_count": 24,
   "id": "64aa3ce1",
   "metadata": {},
   "outputs": [],
   "source": [
    "data1.drop(\"message\",axis=1,inplace=True)"
   ]
  },
  {
   "cell_type": "code",
   "execution_count": 25,
   "id": "5ceba46d",
   "metadata": {},
   "outputs": [
    {
     "data": {
      "text/html": [
       "<div>\n",
       "<style scoped>\n",
       "    .dataframe tbody tr th:only-of-type {\n",
       "        vertical-align: middle;\n",
       "    }\n",
       "\n",
       "    .dataframe tbody tr th {\n",
       "        vertical-align: top;\n",
       "    }\n",
       "\n",
       "    .dataframe thead th {\n",
       "        text-align: right;\n",
       "    }\n",
       "</style>\n",
       "<table border=\"1\" class=\"dataframe\">\n",
       "  <thead>\n",
       "    <tr style=\"text-align: right;\">\n",
       "      <th></th>\n",
       "      <th>date</th>\n",
       "      <th>Time</th>\n",
       "      <th>sender</th>\n",
       "      <th>chat</th>\n",
       "    </tr>\n",
       "  </thead>\n",
       "  <tbody>\n",
       "    <tr>\n",
       "      <th>0</th>\n",
       "      <td>15/08/22</td>\n",
       "      <td>8:46 am</td>\n",
       "      <td>😊</td>\n",
       "      <td>Started subha</td>\n",
       "    </tr>\n",
       "    <tr>\n",
       "      <th>1</th>\n",
       "      <td>18/08/22</td>\n",
       "      <td>9:13 am</td>\n",
       "      <td>😊</td>\n",
       "      <td>Subha convey my birthday wishes to anna 🎂💐</td>\n",
       "    </tr>\n",
       "    <tr>\n",
       "      <th>2</th>\n",
       "      <td>18/08/22</td>\n",
       "      <td>4:48 pm</td>\n",
       "      <td>subha Vaishu Mridhula</td>\n",
       "      <td>Thanks Sudha😍 sure will convey</td>\n",
       "    </tr>\n",
       "    <tr>\n",
       "      <th>3</th>\n",
       "      <td>18/08/22</td>\n",
       "      <td>4:59 pm</td>\n",
       "      <td>😊</td>\n",
       "      <td>Any plans for janmashtami?</td>\n",
       "    </tr>\n",
       "    <tr>\n",
       "      <th>4</th>\n",
       "      <td>18/08/22</td>\n",
       "      <td>5:03 pm</td>\n",
       "      <td>subha Vaishu Mridhula</td>\n",
       "      <td>Tomo only right</td>\n",
       "    </tr>\n",
       "  </tbody>\n",
       "</table>\n",
       "</div>"
      ],
      "text/plain": [
       "       date       Time                  sender  \\\n",
       "0  15/08/22   8:46 am                        😊   \n",
       "1  18/08/22   9:13 am                        😊   \n",
       "2  18/08/22   4:48 pm    subha Vaishu Mridhula   \n",
       "3  18/08/22   4:59 pm                        😊   \n",
       "4  18/08/22   5:03 pm    subha Vaishu Mridhula   \n",
       "\n",
       "                                          chat  \n",
       "0                                Started subha  \n",
       "1   Subha convey my birthday wishes to anna 🎂💐  \n",
       "2               Thanks Sudha😍 sure will convey  \n",
       "3                   Any plans for janmashtami?  \n",
       "4                              Tomo only right  "
      ]
     },
     "execution_count": 25,
     "metadata": {},
     "output_type": "execute_result"
    }
   ],
   "source": [
    "data1[:5]"
   ]
  },
  {
   "cell_type": "code",
   "execution_count": 26,
   "id": "75a0913b",
   "metadata": {},
   "outputs": [
    {
     "name": "stdout",
     "output_type": "stream",
     "text": [
      "<class 'pandas.core.frame.DataFrame'>\n",
      "RangeIndex: 125 entries, 0 to 124\n",
      "Data columns (total 4 columns):\n",
      " #   Column  Non-Null Count  Dtype \n",
      "---  ------  --------------  ----- \n",
      " 0   date    125 non-null    object\n",
      " 1   Time    125 non-null    object\n",
      " 2   sender  123 non-null    object\n",
      " 3   chat    123 non-null    object\n",
      "dtypes: object(4)\n",
      "memory usage: 4.0+ KB\n"
     ]
    }
   ],
   "source": [
    "data1.info()"
   ]
  },
  {
   "cell_type": "code",
   "execution_count": 27,
   "id": "96cd47c1",
   "metadata": {},
   "outputs": [],
   "source": [
    "data1.dropna(inplace=True)"
   ]
  },
  {
   "cell_type": "code",
   "execution_count": 28,
   "id": "ed2fd221",
   "metadata": {},
   "outputs": [
    {
     "data": {
      "text/html": [
       "<div>\n",
       "<style scoped>\n",
       "    .dataframe tbody tr th:only-of-type {\n",
       "        vertical-align: middle;\n",
       "    }\n",
       "\n",
       "    .dataframe tbody tr th {\n",
       "        vertical-align: top;\n",
       "    }\n",
       "\n",
       "    .dataframe thead th {\n",
       "        text-align: right;\n",
       "    }\n",
       "</style>\n",
       "<table border=\"1\" class=\"dataframe\">\n",
       "  <thead>\n",
       "    <tr style=\"text-align: right;\">\n",
       "      <th></th>\n",
       "      <th>message</th>\n",
       "      <th>label</th>\n",
       "    </tr>\n",
       "  </thead>\n",
       "  <tbody>\n",
       "    <tr>\n",
       "      <th>0</th>\n",
       "      <td>cannot imagine like that, shut up</td>\n",
       "      <td>Not Flirt</td>\n",
       "    </tr>\n",
       "    <tr>\n",
       "      <th>1</th>\n",
       "      <td>its very strange, close it</td>\n",
       "      <td>Not Flirt</td>\n",
       "    </tr>\n",
       "    <tr>\n",
       "      <th>2</th>\n",
       "      <td>Hey, stranger. Stop being a stranger.</td>\n",
       "      <td>Flirt</td>\n",
       "    </tr>\n",
       "    <tr>\n",
       "      <th>3</th>\n",
       "      <td>Morning, you! Hope you’re having a good day!</td>\n",
       "      <td>Flirt</td>\n",
       "    </tr>\n",
       "    <tr>\n",
       "      <th>4</th>\n",
       "      <td>Never mind</td>\n",
       "      <td>Not Flirt</td>\n",
       "    </tr>\n",
       "    <tr>\n",
       "      <th>...</th>\n",
       "      <td>...</td>\n",
       "      <td>...</td>\n",
       "    </tr>\n",
       "    <tr>\n",
       "      <th>98</th>\n",
       "      <td>I cannot date someone whose values are so diff...</td>\n",
       "      <td>Not Flirt</td>\n",
       "    </tr>\n",
       "    <tr>\n",
       "      <th>99</th>\n",
       "      <td>I hope you find what you're looking for.”</td>\n",
       "      <td>Not Flirt</td>\n",
       "    </tr>\n",
       "    <tr>\n",
       "      <th>100</th>\n",
       "      <td>I think you’re really sweet, but I met someone...</td>\n",
       "      <td>Not Flirt</td>\n",
       "    </tr>\n",
       "    <tr>\n",
       "      <th>101</th>\n",
       "      <td>I want to focus on that. Sorry!”</td>\n",
       "      <td>Not Flirt</td>\n",
       "    </tr>\n",
       "    <tr>\n",
       "      <th>102</th>\n",
       "      <td>“Thanks for hanging out the other night,</td>\n",
       "      <td>Not Flirt</td>\n",
       "    </tr>\n",
       "  </tbody>\n",
       "</table>\n",
       "<p>103 rows × 2 columns</p>\n",
       "</div>"
      ],
      "text/plain": [
       "                                               message      label\n",
       "0                    cannot imagine like that, shut up  Not Flirt\n",
       "1                           its very strange, close it  Not Flirt\n",
       "2                Hey, stranger. Stop being a stranger.      Flirt\n",
       "3         Morning, you! Hope you’re having a good day!      Flirt\n",
       "4                                           Never mind  Not Flirt\n",
       "..                                                 ...        ...\n",
       "98   I cannot date someone whose values are so diff...  Not Flirt\n",
       "99           I hope you find what you're looking for.”  Not Flirt\n",
       "100  I think you’re really sweet, but I met someone...  Not Flirt\n",
       "101                   I want to focus on that. Sorry!”  Not Flirt\n",
       "102          “Thanks for hanging out the other night,   Not Flirt\n",
       "\n",
       "[103 rows x 2 columns]"
      ]
     },
     "execution_count": 28,
     "metadata": {},
     "output_type": "execute_result"
    }
   ],
   "source": [
    "# for flirt prediction is i use Data as my source dataset\n",
    "data"
   ]
  },
  {
   "cell_type": "code",
   "execution_count": 29,
   "id": "1bfb20ac",
   "metadata": {},
   "outputs": [
    {
     "name": "stdout",
     "output_type": "stream",
     "text": [
      "Collecting nltk\n",
      "  Downloading nltk-3.8.1-py3-none-any.whl (1.5 MB)\n",
      "     ---------------------------------------- 1.5/1.5 MB 1.5 MB/s eta 0:00:00\n",
      "Collecting regex>=2021.8.3\n",
      "  Downloading regex-2023.10.3-cp37-cp37m-win_amd64.whl (269 kB)\n",
      "     -------------------------------------- 269.9/269.9 kB 2.1 MB/s eta 0:00:00\n",
      "Requirement already satisfied: joblib in c:\\users\\venka\\anaconda3\\envs\\aiml\\lib\\site-packages (from nltk) (1.3.2)\n",
      "Collecting tqdm\n",
      "  Downloading tqdm-4.66.1-py3-none-any.whl (78 kB)\n",
      "     -------------------------------------- 78.3/78.3 kB 872.0 kB/s eta 0:00:00\n",
      "Requirement already satisfied: click in c:\\users\\venka\\anaconda3\\envs\\aiml\\lib\\site-packages (from nltk) (8.1.7)\n",
      "Requirement already satisfied: importlib-metadata in c:\\users\\venka\\anaconda3\\envs\\aiml\\lib\\site-packages (from click->nltk) (4.11.3)\n",
      "Requirement already satisfied: colorama in c:\\users\\venka\\anaconda3\\envs\\aiml\\lib\\site-packages (from click->nltk) (0.4.6)\n",
      "Requirement already satisfied: typing-extensions>=3.6.4 in c:\\users\\venka\\anaconda3\\envs\\aiml\\lib\\site-packages (from importlib-metadata->click->nltk) (4.7.1)\n",
      "Requirement already satisfied: zipp>=0.5 in c:\\users\\venka\\anaconda3\\envs\\aiml\\lib\\site-packages (from importlib-metadata->click->nltk) (3.11.0)\n",
      "Installing collected packages: tqdm, regex, nltk\n",
      "Successfully installed nltk-3.8.1 regex-2023.10.3 tqdm-4.66.1\n"
     ]
    }
   ],
   "source": [
    "#!pip install nltk"
   ]
  },
  {
   "cell_type": "code",
   "execution_count": 34,
   "id": "2f661bf9",
   "metadata": {},
   "outputs": [
    {
     "name": "stderr",
     "output_type": "stream",
     "text": [
      "[nltk_data] Downloading package vader_lexicon to\n",
      "[nltk_data]     C:\\Users\\venka\\AppData\\Roaming\\nltk_data...\n"
     ]
    }
   ],
   "source": [
    "import nltk\n",
    "from nltk.sentiment.vader import SentimentIntensityAnalyzer\n",
    "#nltk.download('vader_lexicon')\n",
    "sia = SentimentIntensityAnalyzer()"
   ]
  },
  {
   "cell_type": "code",
   "execution_count": 36,
   "id": "9cb0ab18",
   "metadata": {},
   "outputs": [],
   "source": [
    "senti = sia.polarity_scores(data['message'][5])"
   ]
  },
  {
   "cell_type": "code",
   "execution_count": 37,
   "id": "75ab828a",
   "metadata": {},
   "outputs": [
    {
     "data": {
      "text/plain": [
       "{'neg': 0.0, 'neu': 0.667, 'pos': 0.333, 'compound': 0.3612}"
      ]
     },
     "execution_count": 37,
     "metadata": {},
     "output_type": "execute_result"
    }
   ],
   "source": [
    "senti"
   ]
  },
  {
   "cell_type": "code",
   "execution_count": 38,
   "id": "b8a95eeb",
   "metadata": {},
   "outputs": [],
   "source": [
    "def sentimentalAnalysis(data,columnname):\n",
    "        \n",
    "        #downloading vader_lexicon for the process\n",
    "        import matplotlib.pyplot as plt\n",
    "        import seaborn as sns\n",
    "        \"Importing Necessary Packeage\"\n",
    "        from nltk.sentiment.vader import SentimentIntensityAnalyzer\n",
    "        sid = SentimentIntensityAnalyzer()\n",
    "  \n",
    " \n",
    "        \"Creating respective columns\"\n",
    "        \n",
    "        data['scores'] = data[columnname].apply(lambda commentText: sid.polarity_scores(commentText))\n",
    "        data['compound']  = data['scores'].apply(lambda score_dict: score_dict['compound'])\n",
    "        data['Negtive']  = data['scores'].apply(lambda score_dict: score_dict['neg'])\n",
    "        data['Postive']  = data['scores'].apply(lambda score_dict: score_dict['pos'])\n",
    "        data['Neutral']  = data['scores'].apply(lambda score_dict: score_dict['neu'])\n",
    "        \n",
    "        \"Creating final pos or neg using compound score\"\n",
    "        data['comp_score'] = data['compound'].apply(lambda c: 'pos' if c >=0 else 'neg')\n",
    "        plt.clf()\n",
    "      \n",
    "        \"Checking how many pos and neg\"\n",
    "        posneg=pd.DataFrame(data['comp_score'].value_counts())\n",
    "        return posneg,data\n",
    "    "
   ]
  },
  {
   "cell_type": "code",
   "execution_count": 40,
   "id": "7444a2e9",
   "metadata": {},
   "outputs": [
    {
     "data": {
      "text/plain": [
       "<Figure size 640x480 with 0 Axes>"
      ]
     },
     "metadata": {},
     "output_type": "display_data"
    }
   ],
   "source": [
    "pos,data_Senti=sentimentalAnalysis(data,columnname='message')"
   ]
  },
  {
   "cell_type": "code",
   "execution_count": 41,
   "id": "37a801d6",
   "metadata": {},
   "outputs": [
    {
     "data": {
      "text/html": [
       "<div>\n",
       "<style scoped>\n",
       "    .dataframe tbody tr th:only-of-type {\n",
       "        vertical-align: middle;\n",
       "    }\n",
       "\n",
       "    .dataframe tbody tr th {\n",
       "        vertical-align: top;\n",
       "    }\n",
       "\n",
       "    .dataframe thead th {\n",
       "        text-align: right;\n",
       "    }\n",
       "</style>\n",
       "<table border=\"1\" class=\"dataframe\">\n",
       "  <thead>\n",
       "    <tr style=\"text-align: right;\">\n",
       "      <th></th>\n",
       "      <th>message</th>\n",
       "      <th>label</th>\n",
       "      <th>scores</th>\n",
       "      <th>compound</th>\n",
       "      <th>Negtive</th>\n",
       "      <th>Postive</th>\n",
       "      <th>Neutral</th>\n",
       "      <th>comp_score</th>\n",
       "    </tr>\n",
       "  </thead>\n",
       "  <tbody>\n",
       "    <tr>\n",
       "      <th>0</th>\n",
       "      <td>cannot imagine like that, shut up</td>\n",
       "      <td>Not Flirt</td>\n",
       "      <td>{'neg': 0.297, 'neu': 0.703, 'pos': 0.0, 'comp...</td>\n",
       "      <td>-0.2755</td>\n",
       "      <td>0.297</td>\n",
       "      <td>0.000</td>\n",
       "      <td>0.703</td>\n",
       "      <td>neg</td>\n",
       "    </tr>\n",
       "    <tr>\n",
       "      <th>1</th>\n",
       "      <td>its very strange, close it</td>\n",
       "      <td>Not Flirt</td>\n",
       "      <td>{'neg': 0.344, 'neu': 0.656, 'pos': 0.0, 'comp...</td>\n",
       "      <td>-0.2716</td>\n",
       "      <td>0.344</td>\n",
       "      <td>0.000</td>\n",
       "      <td>0.656</td>\n",
       "      <td>neg</td>\n",
       "    </tr>\n",
       "    <tr>\n",
       "      <th>2</th>\n",
       "      <td>Hey, stranger. Stop being a stranger.</td>\n",
       "      <td>Flirt</td>\n",
       "      <td>{'neg': 0.355, 'neu': 0.645, 'pos': 0.0, 'comp...</td>\n",
       "      <td>-0.2960</td>\n",
       "      <td>0.355</td>\n",
       "      <td>0.000</td>\n",
       "      <td>0.645</td>\n",
       "      <td>neg</td>\n",
       "    </tr>\n",
       "    <tr>\n",
       "      <th>3</th>\n",
       "      <td>Morning, you! Hope you’re having a good day!</td>\n",
       "      <td>Flirt</td>\n",
       "      <td>{'neg': 0.0, 'neu': 0.439, 'pos': 0.561, 'comp...</td>\n",
       "      <td>0.7494</td>\n",
       "      <td>0.000</td>\n",
       "      <td>0.561</td>\n",
       "      <td>0.439</td>\n",
       "      <td>pos</td>\n",
       "    </tr>\n",
       "    <tr>\n",
       "      <th>4</th>\n",
       "      <td>Never mind</td>\n",
       "      <td>Not Flirt</td>\n",
       "      <td>{'neg': 0.0, 'neu': 1.0, 'pos': 0.0, 'compound...</td>\n",
       "      <td>0.0000</td>\n",
       "      <td>0.000</td>\n",
       "      <td>0.000</td>\n",
       "      <td>1.000</td>\n",
       "      <td>pos</td>\n",
       "    </tr>\n",
       "    <tr>\n",
       "      <th>...</th>\n",
       "      <td>...</td>\n",
       "      <td>...</td>\n",
       "      <td>...</td>\n",
       "      <td>...</td>\n",
       "      <td>...</td>\n",
       "      <td>...</td>\n",
       "      <td>...</td>\n",
       "      <td>...</td>\n",
       "    </tr>\n",
       "    <tr>\n",
       "      <th>98</th>\n",
       "      <td>I cannot date someone whose values are so diff...</td>\n",
       "      <td>Not Flirt</td>\n",
       "      <td>{'neg': 0.0, 'neu': 0.769, 'pos': 0.231, 'comp...</td>\n",
       "      <td>0.4019</td>\n",
       "      <td>0.000</td>\n",
       "      <td>0.231</td>\n",
       "      <td>0.769</td>\n",
       "      <td>pos</td>\n",
       "    </tr>\n",
       "    <tr>\n",
       "      <th>99</th>\n",
       "      <td>I hope you find what you're looking for.”</td>\n",
       "      <td>Not Flirt</td>\n",
       "      <td>{'neg': 0.0, 'neu': 0.674, 'pos': 0.326, 'comp...</td>\n",
       "      <td>0.4404</td>\n",
       "      <td>0.000</td>\n",
       "      <td>0.326</td>\n",
       "      <td>0.674</td>\n",
       "      <td>pos</td>\n",
       "    </tr>\n",
       "    <tr>\n",
       "      <th>100</th>\n",
       "      <td>I think you’re really sweet, but I met someone...</td>\n",
       "      <td>Not Flirt</td>\n",
       "      <td>{'neg': 0.0, 'neu': 0.765, 'pos': 0.235, 'comp...</td>\n",
       "      <td>0.2838</td>\n",
       "      <td>0.000</td>\n",
       "      <td>0.235</td>\n",
       "      <td>0.765</td>\n",
       "      <td>pos</td>\n",
       "    </tr>\n",
       "    <tr>\n",
       "      <th>101</th>\n",
       "      <td>I want to focus on that. Sorry!”</td>\n",
       "      <td>Not Flirt</td>\n",
       "      <td>{'neg': 0.0, 'neu': 0.758, 'pos': 0.242, 'comp...</td>\n",
       "      <td>0.1511</td>\n",
       "      <td>0.000</td>\n",
       "      <td>0.242</td>\n",
       "      <td>0.758</td>\n",
       "      <td>pos</td>\n",
       "    </tr>\n",
       "    <tr>\n",
       "      <th>102</th>\n",
       "      <td>“Thanks for hanging out the other night,</td>\n",
       "      <td>Not Flirt</td>\n",
       "      <td>{'neg': 0.0, 'neu': 1.0, 'pos': 0.0, 'compound...</td>\n",
       "      <td>0.0000</td>\n",
       "      <td>0.000</td>\n",
       "      <td>0.000</td>\n",
       "      <td>1.000</td>\n",
       "      <td>pos</td>\n",
       "    </tr>\n",
       "  </tbody>\n",
       "</table>\n",
       "<p>103 rows × 8 columns</p>\n",
       "</div>"
      ],
      "text/plain": [
       "                                               message      label  \\\n",
       "0                    cannot imagine like that, shut up  Not Flirt   \n",
       "1                           its very strange, close it  Not Flirt   \n",
       "2                Hey, stranger. Stop being a stranger.      Flirt   \n",
       "3         Morning, you! Hope you’re having a good day!      Flirt   \n",
       "4                                           Never mind  Not Flirt   \n",
       "..                                                 ...        ...   \n",
       "98   I cannot date someone whose values are so diff...  Not Flirt   \n",
       "99           I hope you find what you're looking for.”  Not Flirt   \n",
       "100  I think you’re really sweet, but I met someone...  Not Flirt   \n",
       "101                   I want to focus on that. Sorry!”  Not Flirt   \n",
       "102          “Thanks for hanging out the other night,   Not Flirt   \n",
       "\n",
       "                                                scores  compound  Negtive  \\\n",
       "0    {'neg': 0.297, 'neu': 0.703, 'pos': 0.0, 'comp...   -0.2755    0.297   \n",
       "1    {'neg': 0.344, 'neu': 0.656, 'pos': 0.0, 'comp...   -0.2716    0.344   \n",
       "2    {'neg': 0.355, 'neu': 0.645, 'pos': 0.0, 'comp...   -0.2960    0.355   \n",
       "3    {'neg': 0.0, 'neu': 0.439, 'pos': 0.561, 'comp...    0.7494    0.000   \n",
       "4    {'neg': 0.0, 'neu': 1.0, 'pos': 0.0, 'compound...    0.0000    0.000   \n",
       "..                                                 ...       ...      ...   \n",
       "98   {'neg': 0.0, 'neu': 0.769, 'pos': 0.231, 'comp...    0.4019    0.000   \n",
       "99   {'neg': 0.0, 'neu': 0.674, 'pos': 0.326, 'comp...    0.4404    0.000   \n",
       "100  {'neg': 0.0, 'neu': 0.765, 'pos': 0.235, 'comp...    0.2838    0.000   \n",
       "101  {'neg': 0.0, 'neu': 0.758, 'pos': 0.242, 'comp...    0.1511    0.000   \n",
       "102  {'neg': 0.0, 'neu': 1.0, 'pos': 0.0, 'compound...    0.0000    0.000   \n",
       "\n",
       "     Postive  Neutral comp_score  \n",
       "0      0.000    0.703        neg  \n",
       "1      0.000    0.656        neg  \n",
       "2      0.000    0.645        neg  \n",
       "3      0.561    0.439        pos  \n",
       "4      0.000    1.000        pos  \n",
       "..       ...      ...        ...  \n",
       "98     0.231    0.769        pos  \n",
       "99     0.326    0.674        pos  \n",
       "100    0.235    0.765        pos  \n",
       "101    0.242    0.758        pos  \n",
       "102    0.000    1.000        pos  \n",
       "\n",
       "[103 rows x 8 columns]"
      ]
     },
     "execution_count": 41,
     "metadata": {},
     "output_type": "execute_result"
    }
   ],
   "source": [
    "data_Senti"
   ]
  },
  {
   "cell_type": "code",
   "execution_count": 42,
   "id": "0fea0d9f",
   "metadata": {},
   "outputs": [
    {
     "data": {
      "text/html": [
       "<div>\n",
       "<style scoped>\n",
       "    .dataframe tbody tr th:only-of-type {\n",
       "        vertical-align: middle;\n",
       "    }\n",
       "\n",
       "    .dataframe tbody tr th {\n",
       "        vertical-align: top;\n",
       "    }\n",
       "\n",
       "    .dataframe thead th {\n",
       "        text-align: right;\n",
       "    }\n",
       "</style>\n",
       "<table border=\"1\" class=\"dataframe\">\n",
       "  <thead>\n",
       "    <tr style=\"text-align: right;\">\n",
       "      <th></th>\n",
       "      <th>comp_score</th>\n",
       "    </tr>\n",
       "  </thead>\n",
       "  <tbody>\n",
       "    <tr>\n",
       "      <th>pos</th>\n",
       "      <td>84</td>\n",
       "    </tr>\n",
       "    <tr>\n",
       "      <th>neg</th>\n",
       "      <td>19</td>\n",
       "    </tr>\n",
       "  </tbody>\n",
       "</table>\n",
       "</div>"
      ],
      "text/plain": [
       "     comp_score\n",
       "pos          84\n",
       "neg          19"
      ]
     },
     "execution_count": 42,
     "metadata": {},
     "output_type": "execute_result"
    }
   ],
   "source": [
    "pos"
   ]
  },
  {
   "cell_type": "code",
   "execution_count": 45,
   "id": "96aefa4f",
   "metadata": {},
   "outputs": [
    {
     "data": {
      "text/plain": [
       "<matplotlib.axes._subplots.AxesSubplot at 0x25d8dc28c88>"
      ]
     },
     "execution_count": 45,
     "metadata": {},
     "output_type": "execute_result"
    },
    {
     "data": {
      "image/png": "[encoded data removed]",
      "text/plain": [
       "<Figure size 640x480 with 1 Axes>"
      ]
     },
     "metadata": {},
     "output_type": "display_data"
    }
   ],
   "source": [
    "import seaborn as sns\n",
    "sns.countplot(x='comp_score',data=data)"
   ]
  },
  {
   "cell_type": "code",
   "execution_count": 50,
   "id": "0a6b950a",
   "metadata": {},
   "outputs": [
    {
     "data": {
      "text/plain": [
       "<matplotlib.axes._subplots.AxesSubplot at 0x25d8dcee708>"
      ]
     },
     "execution_count": 50,
     "metadata": {},
     "output_type": "execute_result"
    },
    {
     "data": {
      "image/png": "[encoded data removed]",
      "text/plain": [
       "<Figure size 640x480 with 1 Axes>"
      ]
     },
     "metadata": {},
     "output_type": "display_data"
    }
   ],
   "source": [
    "sns.countplot(x='comp_score',hue='label',data=data)"
   ]
  },
  {
   "cell_type": "code",
   "execution_count": 51,
   "id": "1c9385a5",
   "metadata": {},
   "outputs": [
    {
     "name": "stdout",
     "output_type": "stream",
     "text": [
      "  (0, 102)\t0.5773502691896258\n",
      "  (0, 57)\t0.5773502691896258\n",
      "  (0, 143)\t0.5773502691896258\n"
     ]
    }
   ],
   "source": [
    "indep = data['message']\n",
    "dep = data['label']\n",
    "\n",
    "from sklearn.feature_extraction.text import TfidfVectorizer\n",
    "tfidf = TfidfVectorizer(stop_words='english')\n",
    "\n",
    "from sklearn.model_selection import train_test_split\n",
    "x_train,x_test,y_train,y_test = train_test_split(indep,dep,test_size=0.20,random_state=53)\n",
    "\n",
    "vector = tfidf.fit_transform(x_train)\n",
    "vector_test= tfidf.transform(x_test)\n",
    "print(vector[0])"
   ]
  },
  {
   "cell_type": "code",
   "execution_count": 52,
   "id": "082d0de6",
   "metadata": {},
   "outputs": [
    {
     "name": "stdout",
     "output_type": "stream",
     "text": [
      "(82, 169)\n"
     ]
    }
   ],
   "source": [
    "print(vector.shape)"
   ]
  },
  {
   "cell_type": "code",
   "execution_count": 53,
   "id": "b6d4729f",
   "metadata": {},
   "outputs": [
    {
     "data": {
      "text/plain": [
       "169"
      ]
     },
     "execution_count": 53,
     "metadata": {},
     "output_type": "execute_result"
    }
   ],
   "source": [
    "len(tfidf.get_feature_names_out())"
   ]
  },
  {
   "cell_type": "code",
   "execution_count": 54,
   "id": "8563273d",
   "metadata": {},
   "outputs": [
    {
     "name": "stdout",
     "output_type": "stream",
     "text": [
      "Accuracy :  0.6190476190476191\n"
     ]
    }
   ],
   "source": [
    "from sklearn.naive_bayes import MultinomialNB\n",
    "classifier = MultinomialNB()\n",
    "classifier.fit(vector,y_train)\n",
    "\n",
    "pred = classifier.predict(vector_test)\n",
    "\n",
    "from sklearn import metrics\n",
    "score = metrics.accuracy_score(y_test,pred)\n",
    "print(\"Accuracy : \", score)"
   ]
  },
  {
   "cell_type": "code",
   "execution_count": 55,
   "id": "53ff6f79",
   "metadata": {},
   "outputs": [
    {
     "name": "stdout",
     "output_type": "stream",
     "text": [
      "PAC Accuracy : 0.5714285714285714\n"
     ]
    }
   ],
   "source": [
    "from sklearn.linear_model import PassiveAggressiveClassifier\n",
    "pac = PassiveAggressiveClassifier()\n",
    "\n",
    "pac.fit(vector,y_train)\n",
    "\n",
    "pred = pac.predict(vector_test)\n",
    "\n",
    "from sklearn import metrics\n",
    "score  = metrics.accuracy_score(y_test,pred)\n",
    "print(\"PAC Accuracy :\" , score)"
   ]
  },
  {
   "cell_type": "markdown",
   "id": "e1616196",
   "metadata": {},
   "source": [
    "since the above algorithms didnt provide high accuracy, we will try with count vectorisation"
   ]
  },
  {
   "cell_type": "code",
   "execution_count": 56,
   "id": "95e6ffb6",
   "metadata": {},
   "outputs": [
    {
     "name": "stdout",
     "output_type": "stream",
     "text": [
      "  (0, 143)\t1\n",
      "  (0, 57)\t1\n",
      "  (0, 102)\t1\n"
     ]
    }
   ],
   "source": [
    "from sklearn.feature_extraction.text import CountVectorizer\n",
    "vec_count = CountVectorizer(stop_words='english')\n",
    "\n",
    "from sklearn.model_selection import train_test_split\n",
    "x_train,x_test,y_train,y_test = train_test_split(indep,dep,test_size=0.20,random_state=53)\n",
    "\n",
    "vector1 = vec_count.fit_transform(x_train)\n",
    "vector1_test= vec_count.transform(x_test)\n",
    "print(vector1[0])"
   ]
  },
  {
   "cell_type": "code",
   "execution_count": 57,
   "id": "bd2fa413",
   "metadata": {},
   "outputs": [
    {
     "name": "stdout",
     "output_type": "stream",
     "text": [
      "(82, 169)\n"
     ]
    }
   ],
   "source": [
    "print(vector1.shape)"
   ]
  },
  {
   "cell_type": "code",
   "execution_count": 58,
   "id": "26e1af0f",
   "metadata": {},
   "outputs": [
    {
     "name": "stdout",
     "output_type": "stream",
     "text": [
      "Accuracy :  0.6666666666666666\n"
     ]
    }
   ],
   "source": [
    "from sklearn.naive_bayes import MultinomialNB\n",
    "classifier = MultinomialNB()\n",
    "classifier.fit(vector1,y_train)\n",
    "\n",
    "pred = classifier.predict(vector1_test)\n",
    "\n",
    "from sklearn import metrics\n",
    "score = metrics.accuracy_score(y_test,pred)\n",
    "print(\"Accuracy : \", score)"
   ]
  },
  {
   "cell_type": "code",
   "execution_count": 59,
   "id": "1f680196",
   "metadata": {},
   "outputs": [
    {
     "name": "stdout",
     "output_type": "stream",
     "text": [
      "PAC Accuracy : 0.5714285714285714\n"
     ]
    }
   ],
   "source": [
    "from sklearn.linear_model import PassiveAggressiveClassifier\n",
    "pac = PassiveAggressiveClassifier()\n",
    "\n",
    "pac.fit(vector1,y_train)\n",
    "\n",
    "pred = pac.predict(vector1_test)\n",
    "\n",
    "from sklearn import metrics\n",
    "score  = metrics.accuracy_score(y_test,pred)\n",
    "print(\"PAC Accuracy :\" , score)"
   ]
  },
  {
   "cell_type": "code",
   "execution_count": 64,
   "id": "fbb6cb91",
   "metadata": {},
   "outputs": [
    {
     "name": "stdout",
     "output_type": "stream",
     "text": [
      "LR Accuracy : 0.5714285714285714\n"
     ]
    }
   ],
   "source": [
    "from sklearn.linear_model import LogisticRegression\n",
    "clf = LogisticRegression()\n",
    "\n",
    "clf.fit(vector1,y_train)\n",
    "\n",
    "pred = clf.predict(vector1_test)\n",
    "\n",
    "from sklearn import metrics\n",
    "score  = metrics.accuracy_score(y_test,pred)\n",
    "print(\"LR Accuracy :\" , score)"
   ]
  },
  {
   "cell_type": "code",
   "execution_count": 61,
   "id": "2aedd359",
   "metadata": {},
   "outputs": [
    {
     "name": "stdout",
     "output_type": "stream",
     "text": [
      "Accuracy :  0.7142857142857143\n"
     ]
    }
   ],
   "source": [
    "from sklearn.tree import DecisionTreeClassifier\n",
    "dtc = DecisionTreeClassifier()\n",
    "dtc.fit(vector1,y_train)\n",
    "\n",
    "pred = dtc.predict(vector1_test)\n",
    "\n",
    "from sklearn import metrics\n",
    "score = metrics.accuracy_score(y_test,pred)\n",
    "print(\"Accuracy : \", score)"
   ]
  },
  {
   "cell_type": "code",
   "execution_count": 75,
   "id": "6ecd6110",
   "metadata": {},
   "outputs": [
    {
     "name": "stdout",
     "output_type": "stream",
     "text": [
      "Accuracy :  0.8571428571428571\n"
     ]
    }
   ],
   "source": [
    "from sklearn.tree import DecisionTreeClassifier\n",
    "dtc = DecisionTreeClassifier()\n",
    "dtc.fit(vector,y_train)\n",
    "\n",
    "pred = dtc.predict(vector_test)\n",
    "\n",
    "from sklearn import metrics\n",
    "score = metrics.accuracy_score(y_test,pred)\n",
    "print(\"Accuracy : \", score)"
   ]
  },
  {
   "cell_type": "code",
   "execution_count": 76,
   "id": "98b937ed",
   "metadata": {},
   "outputs": [
    {
     "name": "stdout",
     "output_type": "stream",
     "text": [
      " RF Accuracy :  0.8571428571428571\n"
     ]
    }
   ],
   "source": [
    "from sklearn.ensemble import RandomForestClassifier\n",
    "rf = RandomForestClassifier()\n",
    "rf.fit(vector1,y_train)\n",
    "\n",
    "pred = rf.predict(vector1_test)\n",
    "\n",
    "from sklearn import metrics\n",
    "score = metrics.accuracy_score(y_test,pred)\n",
    "print(\" RF Accuracy : \", score)"
   ]
  },
  {
   "cell_type": "code",
   "execution_count": 73,
   "id": "0fb7e682",
   "metadata": {},
   "outputs": [
    {
     "name": "stdout",
     "output_type": "stream",
     "text": [
      " RF Accuracy :  0.8095238095238095\n"
     ]
    }
   ],
   "source": [
    "from sklearn.ensemble import RandomForestClassifier\n",
    "rf = RandomForestClassifier()\n",
    "rf.fit(vector,y_train)\n",
    "\n",
    "pred = rf.predict(vector_test)\n",
    "\n",
    "from sklearn import metrics\n",
    "score = metrics.accuracy_score(y_test,pred)\n",
    "print(\" RF Accuracy : \", score)"
   ]
  },
  {
   "cell_type": "code",
   "execution_count": 66,
   "id": "641ad106",
   "metadata": {},
   "outputs": [
    {
     "name": "stdout",
     "output_type": "stream",
     "text": [
      " KNN Accuracy :  0.8095238095238095\n"
     ]
    }
   ],
   "source": [
    "from sklearn.neighbors import KNeighborsClassifier\n",
    "neigh = KNeighborsClassifier(n_neighbors=3)\n",
    "neigh.fit(vector,y_train)\n",
    "\n",
    "pred = neigh.predict(vector_test)\n",
    "\n",
    "from sklearn import metrics\n",
    "score = metrics.accuracy_score(y_test,pred)\n",
    "print(\" KNN Accuracy : \", score)"
   ]
  },
  {
   "cell_type": "code",
   "execution_count": 67,
   "id": "c0f6b840",
   "metadata": {},
   "outputs": [
    {
     "name": "stdout",
     "output_type": "stream",
     "text": [
      " KNN Accuracy :  0.42857142857142855\n"
     ]
    }
   ],
   "source": [
    "from sklearn.neighbors import KNeighborsClassifier\n",
    "neigh = KNeighborsClassifier(n_neighbors=3)\n",
    "neigh.fit(vector1,y_train)\n",
    "\n",
    "pred = neigh.predict(vector1_test)\n",
    "\n",
    "from sklearn import metrics\n",
    "score = metrics.accuracy_score(y_test,pred)\n",
    "print(\" KNN Accuracy : \", score)"
   ]
  },
  {
   "cell_type": "code",
   "execution_count": 77,
   "id": "455e2f4c",
   "metadata": {},
   "outputs": [],
   "source": [
    "from sklearn.metrics import classification_report\n",
    "report = classification_report(y_test,pred)"
   ]
  },
  {
   "cell_type": "code",
   "execution_count": 78,
   "id": "5d04f7ce",
   "metadata": {},
   "outputs": [
    {
     "name": "stdout",
     "output_type": "stream",
     "text": [
      "              precision    recall  f1-score   support\n",
      "\n",
      "       Flirt       0.80      0.67      0.73         6\n",
      "   Not Flirt       0.88      0.93      0.90        15\n",
      "\n",
      "    accuracy                           0.86        21\n",
      "   macro avg       0.84      0.80      0.82        21\n",
      "weighted avg       0.85      0.86      0.85        21\n",
      "\n"
     ]
    }
   ],
   "source": [
    "print(report)"
   ]
  },
  {
   "cell_type": "code",
   "execution_count": 79,
   "id": "12a5ec5a",
   "metadata": {},
   "outputs": [
    {
     "data": {
      "text/plain": [
       "'we need to talk'"
      ]
     },
     "execution_count": 79,
     "metadata": {},
     "output_type": "execute_result"
    }
   ],
   "source": [
    "data['message'][56]"
   ]
  },
  {
   "cell_type": "code",
   "execution_count": 80,
   "id": "16059b82",
   "metadata": {},
   "outputs": [
    {
     "data": {
      "text/plain": [
       "'Not Flirt'"
      ]
     },
     "execution_count": 80,
     "metadata": {},
     "output_type": "execute_result"
    }
   ],
   "source": [
    "data['label'][56]"
   ]
  },
  {
   "cell_type": "code",
   "execution_count": 81,
   "id": "4004353e",
   "metadata": {},
   "outputs": [
    {
     "data": {
      "text/plain": [
       "array(['Flirt'], dtype=object)"
      ]
     },
     "execution_count": 81,
     "metadata": {},
     "output_type": "execute_result"
    }
   ],
   "source": [
    "rf.predict(vector1[56])"
   ]
  },
  {
   "cell_type": "code",
   "execution_count": 82,
   "id": "3cc4b804",
   "metadata": {},
   "outputs": [
    {
     "data": {
      "text/plain": [
       "'I am looking for more than just a hookup.'"
      ]
     },
     "execution_count": 82,
     "metadata": {},
     "output_type": "execute_result"
    }
   ],
   "source": [
    "data['message'][70]"
   ]
  },
  {
   "cell_type": "code",
   "execution_count": 83,
   "id": "b2e53223",
   "metadata": {},
   "outputs": [
    {
     "data": {
      "text/plain": [
       "'Not Flirt'"
      ]
     },
     "execution_count": 83,
     "metadata": {},
     "output_type": "execute_result"
    }
   ],
   "source": [
    "data['label'][70]"
   ]
  },
  {
   "cell_type": "code",
   "execution_count": 84,
   "id": "2c0ee5af",
   "metadata": {},
   "outputs": [
    {
     "data": {
      "text/plain": [
       "array(['Not Flirt'], dtype=object)"
      ]
     },
     "execution_count": 84,
     "metadata": {},
     "output_type": "execute_result"
    }
   ],
   "source": [
    "rf.predict(vector1[70])"
   ]
  },
  {
   "cell_type": "code",
   "execution_count": 86,
   "id": "ce50f65a",
   "metadata": {},
   "outputs": [
    {
     "data": {
      "text/plain": [
       "'Come over, I have all your favorites. Pizza, beer, and of course, ME'"
      ]
     },
     "execution_count": 86,
     "metadata": {},
     "output_type": "execute_result"
    }
   ],
   "source": [
    "data['message'][16]"
   ]
  },
  {
   "cell_type": "code",
   "execution_count": 87,
   "id": "7bd3b5a1",
   "metadata": {},
   "outputs": [
    {
     "data": {
      "text/plain": [
       "'Flirt'"
      ]
     },
     "execution_count": 87,
     "metadata": {},
     "output_type": "execute_result"
    }
   ],
   "source": [
    "data['label'][16]"
   ]
  },
  {
   "cell_type": "code",
   "execution_count": 88,
   "id": "830cffa3",
   "metadata": {},
   "outputs": [
    {
     "data": {
      "text/plain": [
       "array(['Flirt'], dtype=object)"
      ]
     },
     "execution_count": 88,
     "metadata": {},
     "output_type": "execute_result"
    }
   ],
   "source": [
    "rf.predict(vector1[16])"
   ]
  },
  {
   "cell_type": "markdown",
   "id": "4e771800",
   "metadata": {},
   "source": [
    "# for the rest of the Analysis we need date and time sender name so will be using the below dataset."
   ]
  },
  {
   "cell_type": "code",
   "execution_count": 89,
   "id": "eb347a20",
   "metadata": {},
   "outputs": [
    {
     "data": {
      "text/html": [
       "<div>\n",
       "<style scoped>\n",
       "    .dataframe tbody tr th:only-of-type {\n",
       "        vertical-align: middle;\n",
       "    }\n",
       "\n",
       "    .dataframe tbody tr th {\n",
       "        vertical-align: top;\n",
       "    }\n",
       "\n",
       "    .dataframe thead th {\n",
       "        text-align: right;\n",
       "    }\n",
       "</style>\n",
       "<table border=\"1\" class=\"dataframe\">\n",
       "  <thead>\n",
       "    <tr style=\"text-align: right;\">\n",
       "      <th></th>\n",
       "      <th>date</th>\n",
       "      <th>Time</th>\n",
       "      <th>sender</th>\n",
       "      <th>chat</th>\n",
       "    </tr>\n",
       "  </thead>\n",
       "  <tbody>\n",
       "    <tr>\n",
       "      <th>0</th>\n",
       "      <td>15/08/22</td>\n",
       "      <td>8:46 am</td>\n",
       "      <td>😊</td>\n",
       "      <td>Started subha</td>\n",
       "    </tr>\n",
       "    <tr>\n",
       "      <th>1</th>\n",
       "      <td>18/08/22</td>\n",
       "      <td>9:13 am</td>\n",
       "      <td>😊</td>\n",
       "      <td>Subha convey my birthday wishes to anna 🎂💐</td>\n",
       "    </tr>\n",
       "    <tr>\n",
       "      <th>2</th>\n",
       "      <td>18/08/22</td>\n",
       "      <td>4:48 pm</td>\n",
       "      <td>subha Vaishu Mridhula</td>\n",
       "      <td>Thanks Sudha😍 sure will convey</td>\n",
       "    </tr>\n",
       "    <tr>\n",
       "      <th>3</th>\n",
       "      <td>18/08/22</td>\n",
       "      <td>4:59 pm</td>\n",
       "      <td>😊</td>\n",
       "      <td>Any plans for janmashtami?</td>\n",
       "    </tr>\n",
       "    <tr>\n",
       "      <th>4</th>\n",
       "      <td>18/08/22</td>\n",
       "      <td>5:03 pm</td>\n",
       "      <td>subha Vaishu Mridhula</td>\n",
       "      <td>Tomo only right</td>\n",
       "    </tr>\n",
       "    <tr>\n",
       "      <th>...</th>\n",
       "      <td>...</td>\n",
       "      <td>...</td>\n",
       "      <td>...</td>\n",
       "      <td>...</td>\n",
       "    </tr>\n",
       "    <tr>\n",
       "      <th>120</th>\n",
       "      <td>18/02/23</td>\n",
       "      <td>4:51 pm</td>\n",
       "      <td>😊</td>\n",
       "      <td>We started subha</td>\n",
       "    </tr>\n",
       "    <tr>\n",
       "      <th>121</th>\n",
       "      <td>18/02/23</td>\n",
       "      <td>4:50 pm</td>\n",
       "      <td>subha Vaishu Mridhula</td>\n",
       "      <td>When r u going to start to temple?</td>\n",
       "    </tr>\n",
       "    <tr>\n",
       "      <th>122</th>\n",
       "      <td>18/02/23</td>\n",
       "      <td>4:50 pm</td>\n",
       "      <td>subha Vaishu Mridhula</td>\n",
       "      <td>We are going to start after 7 only sudha</td>\n",
       "    </tr>\n",
       "    <tr>\n",
       "      <th>123</th>\n",
       "      <td>18/02/23</td>\n",
       "      <td>5:48 pm</td>\n",
       "      <td>😊</td>\n",
       "      <td>Started to temple subha</td>\n",
       "    </tr>\n",
       "    <tr>\n",
       "      <th>124</th>\n",
       "      <td>18/02/23</td>\n",
       "      <td>6:05 pm</td>\n",
       "      <td>subha Vaishu Mridhula</td>\n",
       "      <td>Okie 👍</td>\n",
       "    </tr>\n",
       "  </tbody>\n",
       "</table>\n",
       "<p>123 rows × 4 columns</p>\n",
       "</div>"
      ],
      "text/plain": [
       "         date       Time                  sender  \\\n",
       "0    15/08/22   8:46 am                        😊   \n",
       "1    18/08/22   9:13 am                        😊   \n",
       "2    18/08/22   4:48 pm    subha Vaishu Mridhula   \n",
       "3    18/08/22   4:59 pm                        😊   \n",
       "4    18/08/22   5:03 pm    subha Vaishu Mridhula   \n",
       "..        ...        ...                     ...   \n",
       "120  18/02/23   4:51 pm                        😊   \n",
       "121  18/02/23   4:50 pm    subha Vaishu Mridhula   \n",
       "122  18/02/23   4:50 pm    subha Vaishu Mridhula   \n",
       "123  18/02/23   5:48 pm                        😊   \n",
       "124  18/02/23   6:05 pm    subha Vaishu Mridhula   \n",
       "\n",
       "                                            chat  \n",
       "0                                  Started subha  \n",
       "1     Subha convey my birthday wishes to anna 🎂💐  \n",
       "2                 Thanks Sudha😍 sure will convey  \n",
       "3                     Any plans for janmashtami?  \n",
       "4                                Tomo only right  \n",
       "..                                           ...  \n",
       "120                             We started subha  \n",
       "121           When r u going to start to temple?  \n",
       "122     We are going to start after 7 only sudha  \n",
       "123                      Started to temple subha  \n",
       "124                                       Okie 👍  \n",
       "\n",
       "[123 rows x 4 columns]"
      ]
     },
     "execution_count": 89,
     "metadata": {},
     "output_type": "execute_result"
    }
   ],
   "source": [
    "data1"
   ]
  },
  {
   "cell_type": "code",
   "execution_count": 91,
   "id": "1db8ce11",
   "metadata": {},
   "outputs": [
    {
     "name": "stdout",
     "output_type": "stream",
     "text": [
      "<class 'pandas.core.frame.DataFrame'>\n",
      "Int64Index: 123 entries, 0 to 124\n",
      "Data columns (total 4 columns):\n",
      " #   Column  Non-Null Count  Dtype \n",
      "---  ------  --------------  ----- \n",
      " 0   date    123 non-null    object\n",
      " 1   Time    123 non-null    object\n",
      " 2   sender  123 non-null    object\n",
      " 3   chat    123 non-null    object\n",
      "dtypes: object(4)\n",
      "memory usage: 4.8+ KB\n"
     ]
    }
   ],
   "source": [
    "data1.info()"
   ]
  },
  {
   "cell_type": "code",
   "execution_count": 93,
   "id": "8e211db5",
   "metadata": {},
   "outputs": [],
   "source": [
    "#Combine 'Date' and 'Time' columns into a single 'Datetime' column\n",
    "data1['Datetime'] = pd.to_datetime(data1['date'] + ' ' + data1['Time'])"
   ]
  },
  {
   "cell_type": "code",
   "execution_count": 94,
   "id": "0dfb1d51",
   "metadata": {},
   "outputs": [
    {
     "data": {
      "text/html": [
       "<div>\n",
       "<style scoped>\n",
       "    .dataframe tbody tr th:only-of-type {\n",
       "        vertical-align: middle;\n",
       "    }\n",
       "\n",
       "    .dataframe tbody tr th {\n",
       "        vertical-align: top;\n",
       "    }\n",
       "\n",
       "    .dataframe thead th {\n",
       "        text-align: right;\n",
       "    }\n",
       "</style>\n",
       "<table border=\"1\" class=\"dataframe\">\n",
       "  <thead>\n",
       "    <tr style=\"text-align: right;\">\n",
       "      <th></th>\n",
       "      <th>date</th>\n",
       "      <th>Time</th>\n",
       "      <th>sender</th>\n",
       "      <th>chat</th>\n",
       "      <th>Datetime</th>\n",
       "    </tr>\n",
       "  </thead>\n",
       "  <tbody>\n",
       "    <tr>\n",
       "      <th>0</th>\n",
       "      <td>15/08/22</td>\n",
       "      <td>8:46 am</td>\n",
       "      <td>😊</td>\n",
       "      <td>Started subha</td>\n",
       "      <td>2022-08-15 08:46:00</td>\n",
       "    </tr>\n",
       "    <tr>\n",
       "      <th>1</th>\n",
       "      <td>18/08/22</td>\n",
       "      <td>9:13 am</td>\n",
       "      <td>😊</td>\n",
       "      <td>Subha convey my birthday wishes to anna 🎂💐</td>\n",
       "      <td>2022-08-18 09:13:00</td>\n",
       "    </tr>\n",
       "    <tr>\n",
       "      <th>2</th>\n",
       "      <td>18/08/22</td>\n",
       "      <td>4:48 pm</td>\n",
       "      <td>subha Vaishu Mridhula</td>\n",
       "      <td>Thanks Sudha😍 sure will convey</td>\n",
       "      <td>2022-08-18 16:48:00</td>\n",
       "    </tr>\n",
       "    <tr>\n",
       "      <th>3</th>\n",
       "      <td>18/08/22</td>\n",
       "      <td>4:59 pm</td>\n",
       "      <td>😊</td>\n",
       "      <td>Any plans for janmashtami?</td>\n",
       "      <td>2022-08-18 16:59:00</td>\n",
       "    </tr>\n",
       "    <tr>\n",
       "      <th>4</th>\n",
       "      <td>18/08/22</td>\n",
       "      <td>5:03 pm</td>\n",
       "      <td>subha Vaishu Mridhula</td>\n",
       "      <td>Tomo only right</td>\n",
       "      <td>2022-08-18 17:03:00</td>\n",
       "    </tr>\n",
       "  </tbody>\n",
       "</table>\n",
       "</div>"
      ],
      "text/plain": [
       "       date       Time                  sender  \\\n",
       "0  15/08/22   8:46 am                        😊   \n",
       "1  18/08/22   9:13 am                        😊   \n",
       "2  18/08/22   4:48 pm    subha Vaishu Mridhula   \n",
       "3  18/08/22   4:59 pm                        😊   \n",
       "4  18/08/22   5:03 pm    subha Vaishu Mridhula   \n",
       "\n",
       "                                          chat            Datetime  \n",
       "0                                Started subha 2022-08-15 08:46:00  \n",
       "1   Subha convey my birthday wishes to anna 🎂💐 2022-08-18 09:13:00  \n",
       "2               Thanks Sudha😍 sure will convey 2022-08-18 16:48:00  \n",
       "3                   Any plans for janmashtami? 2022-08-18 16:59:00  \n",
       "4                              Tomo only right 2022-08-18 17:03:00  "
      ]
     },
     "execution_count": 94,
     "metadata": {},
     "output_type": "execute_result"
    }
   ],
   "source": [
    "data1[:5]"
   ]
  },
  {
   "cell_type": "code",
   "execution_count": 95,
   "id": "a04482fd",
   "metadata": {},
   "outputs": [],
   "source": [
    "## Extract hour from the 'Datetime' column\n",
    "data1['Hour'] = data1['Datetime'].dt.hour"
   ]
  },
  {
   "cell_type": "code",
   "execution_count": 96,
   "id": "7f552673",
   "metadata": {},
   "outputs": [],
   "source": [
    "# Count the number of messages sent in each hour\n",
    "hourly_counts = data1['Hour'].value_counts().sort_index()"
   ]
  },
  {
   "cell_type": "code",
   "execution_count": 97,
   "id": "edb78982",
   "metadata": {},
   "outputs": [
    {
     "data": {
      "text/plain": [
       "0      2\n",
       "1      2\n",
       "7      1\n",
       "8      6\n",
       "9      4\n",
       "10     3\n",
       "11     8\n",
       "12     6\n",
       "13     6\n",
       "14    14\n",
       "15    11\n",
       "16    13\n",
       "17    13\n",
       "18    13\n",
       "19     7\n",
       "20     5\n",
       "21     2\n",
       "22     2\n",
       "23     5\n",
       "Name: Hour, dtype: int64"
      ]
     },
     "execution_count": 97,
     "metadata": {},
     "output_type": "execute_result"
    }
   ],
   "source": [
    "hourly_counts"
   ]
  },
  {
   "cell_type": "code",
   "execution_count": 98,
   "id": "ca005e35",
   "metadata": {},
   "outputs": [
    {
     "name": "stdout",
     "output_type": "stream",
     "text": [
      "The most active hour is 14:00 with 14 messages.\n"
     ]
    }
   ],
   "source": [
    "# Find the most active hour\n",
    "most_active_hour = hourly_counts.idxmax()\n",
    "print(f\"The most active hour is {most_active_hour}:00 with {hourly_counts[most_active_hour]} messages.\")"
   ]
  },
  {
   "cell_type": "code",
   "execution_count": 101,
   "id": "f024fc75",
   "metadata": {},
   "outputs": [
    {
     "name": "stdout",
     "output_type": "stream",
     "text": [
      "The most talkative person is  subha Vaishu Mridhula.\n"
     ]
    }
   ],
   "source": [
    "# Find the most talkative person\n",
    "most_talkative_person = data1['sender'].value_counts().idxmax()\n",
    "print(f\"The most talkative person is {most_talkative_person}.\")"
   ]
  },
  {
   "cell_type": "code",
   "execution_count": 103,
   "id": "bbd453aa",
   "metadata": {},
   "outputs": [
    {
     "name": "stdout",
     "output_type": "stream",
     "text": [
      "The most active day is: Thursday\n"
     ]
    }
   ],
   "source": [
    "# Convert the 'Date' column to datetime format\n",
    "data1['Date'] = pd.to_datetime(data1['date'])\n",
    "\n",
    "# Create a new column for day of the week\n",
    "data1['Day_of_Week'] = data1['Date'].dt.day_name()\n",
    "\n",
    "# Count the number of messages for each day\n",
    "most_active_day = data1['Day_of_Week'].value_counts().idxmax()\n",
    "print(f\"The most active day is: {most_active_day}\")"
   ]
  },
  {
   "cell_type": "code",
   "execution_count": 110,
   "id": "c0ad1991",
   "metadata": {},
   "outputs": [
    {
     "name": "stdout",
     "output_type": "stream",
     "text": [
      "Number of missed calls: (0, 8)\n"
     ]
    }
   ],
   "source": [
    "# 'missed calls' are represented by rows where 'Message' is Missed voice call\n",
    "missed_calls = data1[data1['chat']== \"Missed voice call\"]\n",
    "missed_calls_count = missed_calls.shape\n",
    "print(f\"Number of missed calls: {missed_calls_count}\")"
   ]
  },
  {
   "cell_type": "code",
   "execution_count": 112,
   "id": "7101d7df",
   "metadata": {},
   "outputs": [
    {
     "name": "stdout",
     "output_type": "stream",
     "text": [
      "Media count sent by each person:\n",
      "Series([], Name: sender, dtype: int64)\n"
     ]
    }
   ],
   "source": [
    "# 'Media' messages are identified in the 'Message' column\n",
    "media_count_by_person = data1[data1['chat'] == '<Media omitted>'].groupby('sender')['sender'].count()\n",
    "print(\"Media count sent by each person:\")\n",
    "print(media_count_by_person)"
   ]
  },
  {
   "cell_type": "code",
   "execution_count": 114,
   "id": "f5562ce8",
   "metadata": {},
   "outputs": [
    {
     "name": "stdout",
     "output_type": "stream",
     "text": [
      "Media Count: (0, 8)\n",
      "Deleted Message Count: (0, 8)\n",
      "Missed Voice Call Count: (0, 8)\n",
      "Missed Video Call Count: (0, 8)\n"
     ]
    }
   ],
   "source": [
    "media_count = data1[data1['chat'] == \" <media omitted>\"].shape\n",
    "print(\"Media Count:\", media_count)\n",
    "\n",
    "# Deleted message count\n",
    "deleted_message_count =data1[data1['chat'] == \" this message was deleted\"].shape\n",
    "print(\"Deleted Message Count:\", deleted_message_count)\n",
    "\n",
    "# Missed voice call count\n",
    "missed_voice_call_count = data1[data1['chat'] == \" missed voice call\"].shape\n",
    "print(\"Missed Voice Call Count:\", missed_voice_call_count)\n",
    "\n",
    "# Missed video call count\n",
    "missed_video_call_count = data1[data1['chat'] == \" missed video call\"].shape\n",
    "print(\"Missed Video Call Count:\", missed_video_call_count)"
   ]
  },
  {
   "cell_type": "code",
   "execution_count": null,
   "id": "b252b1c0",
   "metadata": {},
   "outputs": [],
   "source": []
  }
 ],
 "metadata": {
  "kernelspec": {
   "display_name": "Python 3 (ipykernel)",
   "language": "python",
   "name": "python3"
  },
  "language_info": {
   "codemirror_mode": {
    "name": "ipython",
    "version": 3
   },
   "file_extension": ".py",
   "mimetype": "text/x-python",
   "name": "python",
   "nbconvert_exporter": "python",
   "pygments_lexer": "ipython3",
   "version": "3.7.6"
  }
 },
 "nbformat": 4,
 "nbformat_minor": 5
}
